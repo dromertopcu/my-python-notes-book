{
 "cells": [
  {
   "cell_type": "markdown",
   "id": "14cba845-7fd1-4047-95de-608f93ff8970",
   "metadata": {
    "tags": []
   },
   "source": [
    "## Introduction to Importing Data in Python"
   ]
  },
  {
   "cell_type": "markdown",
   "id": "e17c7fdc-b633-4af4-adec-787fdff6c5b8",
   "metadata": {
    "tags": []
   },
   "source": [
    "### Introduction to Importing "
   ]
  },
  {
   "cell_type": "markdown",
   "id": "fefe3e2e-67c2-447c-8e6a-9ed6ed155c35",
   "metadata": {
    "tags": []
   },
   "source": [
    "**Reading a text file**\n",
    "\n",
    "\n",
    "```python\n",
    "filename = 'huck_finn.txt'  \n",
    "file = open(filename, mode='r')  # 'r' is to read  \n",
    "text = file.read()  \n",
    "\n",
    "\n",
    "print(file.closed) # Check whether file is closed\n",
    "\n",
    "file.close() \n",
    "```"
   ]
  },
  {
   "cell_type": "markdown",
   "id": "d727bdf5-b04a-49ae-b89f-5f79b6b72149",
   "metadata": {
    "tags": []
   },
   "source": [
    "**Printing a text file**\n",
    "```python\n",
    "print(text)\n",
    "```"
   ]
  },
  {
   "cell_type": "markdown",
   "id": "e6f6eb12-926c-4843-91f5-a56f37bb6ef1",
   "metadata": {
    "tags": []
   },
   "source": [
    "**Writing to a file**\n",
    "```python\n",
    "filename = 'huck_finn.txt' \n",
    "file = open(filename, mode='w')  # 'w' is to write \n",
    "file.close() \n",
    "\n",
    "```"
   ]
  },
  {
   "cell_type": "markdown",
   "id": "fc21354a-da78-4569-b8ec-cf4a8fbe7fef",
   "metadata": {
    "tags": []
   },
   "source": [
    "**Context manager with**\n",
    "```python\n",
    "with open('huck_finn.txt', 'r') as file:     \n",
    "    print(file.read()) \n",
    "```"
   ]
  },
  {
   "cell_type": "markdown",
   "id": "66f2a683-ef4b-47af-82c0-93dbe39ea682",
   "metadata": {
    "tags": []
   },
   "source": [
    "```python\n",
    "with open('huck_finn.txt', 'r') as file:     \n",
    "    print(file.readline())\n",
    "    print(file.readline())\n",
    "```"
   ]
  },
  {
   "cell_type": "markdown",
   "id": "47073614-0a7b-401b-899e-57c21a9401af",
   "metadata": {
    "tags": []
   },
   "source": [
    "### Importing flat files using NumPy"
   ]
  },
  {
   "cell_type": "markdown",
   "id": "a3093152-3694-4ee3-91a7-f2b83afd8871",
   "metadata": {
    "tags": []
   },
   "source": [
    "```python\n",
    "import numpy as np \n",
    "filename = 'MNIST.txt' \n",
    "data = np.loadtxt(filename, delimiter=',') \n",
    "data \n",
    "```"
   ]
  },
  {
   "cell_type": "markdown",
   "id": "019df09c-1bb6-4a94-a129-c1ea3db64068",
   "metadata": {
    "tags": []
   },
   "source": [
    "**Customizing your NumPy import**\n",
    "```python\n",
    "import numpy as np \n",
    "filename = 'MNIST_header.txt' \n",
    "data = np.loadtxt(filename, delimiter=',', skiprows=1,usecols=[0, 2]) \n",
    "print(data)\n",
    "```"
   ]
  },
  {
   "cell_type": "markdown",
   "id": "bc7470c4-7ee6-4762-b0fd-09932606d0d9",
   "metadata": {
    "tags": []
   },
   "source": [
    "**Visualizing NumPy import**\n",
    "```python\n",
    "# Import package\n",
    "import numpy as np\n",
    "import matplotlib.pyplot as plt\n",
    "\n",
    "# Assign filename to variable: file\n",
    "file = 'digits.csv'\n",
    "\n",
    "# Load file as array: digits\n",
    "digits = np.loadtxt(file, delimiter=',')\n",
    "\n",
    "# Print datatype of digits\n",
    "print(type(digits))\n",
    "\n",
    "# Select and reshape a row\n",
    "im = digits[21, 1:]\n",
    "im_sq = np.reshape(im, (28, 28))\n",
    "\n",
    "# Plot reshaped data ()\n",
    "plt.imshow(im_sq, cmap='Greys', interpolation='nearest')\n",
    "plt.show()\n",
    "\n",
    "```"
   ]
  },
  {
   "cell_type": "markdown",
   "id": "7d1550c5-0615-4b35-9649-f8b8acaa8180",
   "metadata": {
    "tags": []
   },
   "source": [
    "**Mixed Data Types**\n",
    "```python\n",
    "data = np.genfromtxt('titanic.csv', delimiter=',', names=True, dtype=None)\n",
    "\n",
    "data = np.recfromcsv('titanic.csv') # default dtype=None\n",
    "```"
   ]
  },
  {
   "cell_type": "markdown",
   "id": "93feacc5-7dc6-488d-9aa6-2f25a2947c6f",
   "metadata": {
    "tags": []
   },
   "source": [
    "```python\n",
    "data = np.loadtxt(filename, delimiter=',', dtype=str)\n",
    "```"
   ]
  },
  {
   "cell_type": "markdown",
   "id": "98330bb9-d76e-4f42-9914-37d0a397fa33",
   "metadata": {
    "tags": []
   },
   "source": [
    "### Importing flat files using Pandas"
   ]
  },
  {
   "cell_type": "markdown",
   "id": "839c71a5-126f-429b-b1d2-80d122503c71",
   "metadata": {
    "tags": []
   },
   "source": [
    "**Importing using Pandas**\n",
    "```python\n",
    "import pandas as pd \n",
    "filename = 'winequality-red.csv' \n",
    "data = pd.read_csv(filename, nrows=5) \n",
    "data.head()\n",
    "```"
   ]
  },
  {
   "cell_type": "markdown",
   "id": "92f1c924-71fc-4aea-a868-e33513447eee",
   "metadata": {
    "tags": []
   },
   "source": [
    "```python\n",
    "data_array = data.values \n",
    "```"
   ]
  },
  {
   "cell_type": "markdown",
   "id": "b4708eeb-0080-4637-82be-351313d4b268",
   "metadata": {
    "tags": []
   },
   "source": [
    "```python\n",
    "data = pd.read_csv('titanic_corrupt.txt', sep='\\t', comment='#', na_values='Nothing')\n",
    "```"
   ]
  },
  {
   "cell_type": "markdown",
   "id": "1bdae030-f319-49d2-9a8e-ca15384640f2",
   "metadata": {
    "tags": []
   },
   "source": [
    "### Introduction to other file types"
   ]
  },
  {
   "cell_type": "markdown",
   "id": "741b465d-5999-49ab-83e4-7ca19aae0e9b",
   "metadata": {
    "tags": []
   },
   "source": [
    "**Pickled files**\n",
    "```python\n",
    "import pickle \n",
    "with open('pickled_fruit.pkl', 'rb') as file:     \n",
    "    data = pickle.load(file)     \n",
    "print(data) \n",
    "```"
   ]
  },
  {
   "cell_type": "markdown",
   "id": "dfcba114-8ec7-4ca0-b893-2c0a1cbe7302",
   "metadata": {
    "tags": []
   },
   "source": [
    "**Excel spreadsheets**\n",
    "```python\n",
    "import pandas as pd \n",
    "file = 'urbanpop.xlsx' \n",
    "data = pd.ExcelFile(file) \n",
    "print(data.sheet_names)\n",
    "\n",
    "df1 = data.parse('sheet1') # sheet name, as a string \n",
    "df2 = data.parse(0, usecols=['Country'], skiprows=[0], names=['Country']) # sheet index, as a float \n",
    "```"
   ]
  },
  {
   "cell_type": "markdown",
   "id": "aa55ad03-9546-4378-82b8-abfba3dd4849",
   "metadata": {
    "tags": []
   },
   "source": [
    "**SAS files**\n",
    "```python\n",
    "import pandas as pd \n",
    "from sas7bdat import SAS7BDAT \n",
    "with SAS7BDAT('urbanpop.sas7bdat') as file:     \n",
    "    df_sas = file.to_data_frame()\n",
    "```"
   ]
  },
  {
   "cell_type": "markdown",
   "id": "d66593f2-50e8-46fe-8ee2-73f51a98901c",
   "metadata": {
    "tags": []
   },
   "source": [
    "**Stata files**\n",
    "```python\n",
    "import pandas as pd \n",
    "data = pd.read_stata('urbanpop.dta') \n",
    "```"
   ]
  },
  {
   "cell_type": "markdown",
   "id": "75bde192-335e-4cf8-a7b1-fa93c21c87f0",
   "metadata": {
    "tags": []
   },
   "source": [
    "**HDF5 files**\n",
    "```python\n",
    "#Hierarchical Data Format version 5\n",
    "\n",
    "import h5py \n",
    "filename = 'H-H1_LOSC_4_V1-815411200-4096.hdf5' \n",
    "data = h5py.File(filename, 'r') # 'r' is to read \n",
    "print(type(data))\n",
    "```"
   ]
  },
  {
   "cell_type": "markdown",
   "id": "a35ed8c5-2ec6-458a-a3c4-a09737785340",
   "metadata": {
    "tags": []
   },
   "source": [
    "**Structure of HDF5 files**\n",
    "```python\n",
    "for key in data.keys():     \n",
    "    print(key)\n",
    "    \n",
    "print(type(data['meta']))\n",
    "\n",
    "for key in data['meta'].keys():     \n",
    "    print(key)\n",
    "    \n",
    "print(np.array(data['meta']['Description']), np.array(data['meta']['Detector']))\n",
    "```"
   ]
  },
  {
   "cell_type": "markdown",
   "id": "155e12d5-c4bf-431a-880c-7fb5079eefad",
   "metadata": {
    "tags": []
   },
   "source": [
    "**MATLAB files**\n",
    "```python\n",
    "scipy.io.loadmat() # read .mat files\n",
    "scipy.io.savemat() # write .mat files\n",
    "```"
   ]
  },
  {
   "cell_type": "markdown",
   "id": "17ec55f7-0973-46a1-bedc-9d5af7f746cf",
   "metadata": {
    "tags": []
   },
   "source": [
    "```python\n",
    "import scipy.io \n",
    "filename = 'workspace.mat' \n",
    "\n",
    "mat = scipy.io.loadmat(filename)  \n",
    " \n",
    "print(type(mat) # <class 'dict'>\n",
    "```"
   ]
  },
  {
   "cell_type": "markdown",
   "id": "441391af-11e4-4ab8-a8e3-83a9350ca896",
   "metadata": {
    "tags": []
   },
   "source": [
    "### Relational databases"
   ]
  },
  {
   "cell_type": "markdown",
   "id": "6f7a7c17-2521-457f-b35c-e0359be51219",
   "metadata": {
    "tags": []
   },
   "source": [
    "**Creating a database engine**\n",
    "```python\n",
    "from sqlalchemy import create_engine \n",
    "\n",
    "engine = create_engine('sqlite:///Northwind.sqlite') \n",
    "\n",
    "table_names = engine.table_names() \n",
    "print(table_names)\n",
    "```"
   ]
  },
  {
   "cell_type": "markdown",
   "id": "4917eb82-f7ee-4c45-984a-91342fe22f8f",
   "metadata": {
    "tags": []
   },
   "source": [
    "**Querying relational databases**\n",
    "```python\n",
    "from sqlalchemy import create_engine \n",
    "import pandas as pd   \n",
    "engine = create_engine('sqlite:///Northwind.sqlite')  \n",
    "con = engine.connect()  \n",
    "rs = con.execute(\"SELECT * FROM Orders\")  \n",
    "df = pd.DataFrame(rs.fetchall())  \n",
    "con.close()\n",
    "```"
   ]
  },
  {
   "cell_type": "markdown",
   "id": "1cd691c5-0537-4c09-89a0-c99920b2dd60",
   "metadata": {
    "tags": []
   },
   "source": [
    "**Using the context manager**\n",
    "```python\n",
    "from sqlalchemy import create_engine \n",
    "import pandas as pd   \n",
    "engine = create_engine('sqlite:///Northwind.sqlite') \n",
    "\n",
    "with engine.connect() as con:     \n",
    "    rs = con.execute(\"SELECT OrderID, OrderDate, ShipName FROM Orders\")     \n",
    "    df = pd.DataFrame(rs.fetchmany(size=5))     \n",
    "    df.columns = rs.keys() \n",
    "\n",
    "```"
   ]
  },
  {
   "cell_type": "markdown",
   "id": "35501ab1-abc3-4018-b53e-38cbe099e54d",
   "metadata": {
    "tags": []
   },
   "source": [
    "**The pandas way to query**\n",
    "```python\n",
    "from sqlalchemy import create_engine \n",
    "import pandas as pd   \n",
    "engine = create_engine('sqlite:///Northwind.sqlite') \n",
    "\n",
    "df = pd.read_sql_query(\"SELECT * FROM Orders\", engine) \n",
    "\n",
    "```"
   ]
  },
  {
   "cell_type": "markdown",
   "id": "1748b81a-4bf7-40d0-a250-de88e4dc27d7",
   "metadata": {
    "tags": []
   },
   "source": [
    "**Advanced querying**\n",
    "```python\n",
    "from sqlalchemy import create_engine \n",
    "import pandas as pd \n",
    "engine = create_engine('sqlite:///Northwind.sqlite') \n",
    "df = pd.read_sql_query(\"SELECT OrderID, CompanyName FROM Orders  INNER JOIN Customers on Orders.CustomerID = Customers.CustomerID\", engine) \n",
    "\n",
    "print(df.head()) \n",
    "\n",
    "```"
   ]
  }
 ],
 "metadata": {
  "kernelspec": {
   "display_name": "Python 3 (ipykernel)",
   "language": "python",
   "name": "python3"
  },
  "language_info": {
   "codemirror_mode": {
    "name": "ipython",
    "version": 3
   },
   "file_extension": ".py",
   "mimetype": "text/x-python",
   "name": "python",
   "nbconvert_exporter": "python",
   "pygments_lexer": "ipython3",
   "version": "3.8.13"
  },
  "toc": {
   "base_numbering": 1,
   "nav_menu": {},
   "number_sections": true,
   "sideBar": true,
   "skip_h1_title": false,
   "title_cell": "Table of Contents",
   "title_sidebar": "Contents",
   "toc_cell": false,
   "toc_position": {},
   "toc_section_display": true,
   "toc_window_display": false
  },
  "varInspector": {
   "cols": {
    "lenName": 16,
    "lenType": 16,
    "lenVar": 40
   },
   "kernels_config": {
    "python": {
     "delete_cmd_postfix": "",
     "delete_cmd_prefix": "del ",
     "library": "var_list.py",
     "varRefreshCmd": "print(var_dic_list())"
    },
    "r": {
     "delete_cmd_postfix": ") ",
     "delete_cmd_prefix": "rm(",
     "library": "var_list.r",
     "varRefreshCmd": "cat(var_dic_list()) "
    }
   },
   "types_to_exclude": [
    "module",
    "function",
    "builtin_function_or_method",
    "instance",
    "_Feature"
   ],
   "window_display": false
  }
 },
 "nbformat": 4,
 "nbformat_minor": 5
}
