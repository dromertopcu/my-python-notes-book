{
 "cells": [
  {
   "cell_type": "markdown",
   "metadata": {
    "jp-MarkdownHeadingCollapsed": true,
    "slideshow": {
     "slide_type": "slide"
    },
    "tags": []
   },
   "source": [
    "## Introduction to Data Visualization with Matplotlib"
   ]
  },
  {
   "cell_type": "markdown",
   "metadata": {
    "slideshow": {
     "slide_type": "subslide"
    }
   },
   "source": [
    "### Introduction to pyplot"
   ]
  },
  {
   "cell_type": "markdown",
   "metadata": {
    "slideshow": {
     "slide_type": "fragment"
    }
   },
   "source": [
    "```python\n",
    "import matplotlib.pyplot as plt\n",
    "fig, ax = plt.subplots()\n",
    "plt.show() # empty pyplot interface\n",
    "```"
   ]
  },
  {
   "cell_type": "markdown",
   "metadata": {},
   "source": [
    "```python\n",
    "ax.plot(df['col_x'], df['col_y']) # adding data to axes\n",
    "plt.show()\n",
    "```"
   ]
  },
  {
   "cell_type": "markdown",
   "metadata": {},
   "source": [
    "```python\n",
    "fig, ax = plt.subplots()\n",
    "ax.plot(df['col_x'], df['col_y'])\n",
    "ax.plot(df2['col_x'], df2['col_y']) # adding more data\n",
    "plt.show()\n",
    "```"
   ]
  },
  {
   "cell_type": "markdown",
   "metadata": {
    "slideshow": {
     "slide_type": "subslide"
    }
   },
   "source": [
    "### Customizing plots"
   ]
  },
  {
   "cell_type": "markdown",
   "metadata": {
    "slideshow": {
     "slide_type": "fragment"
    }
   },
   "source": [
    "```python\n",
    "ax.plot(df['col_x'],\n",
    "        df['col_y'],\n",
    "        marker='o') # adding markers\n",
    "plt.show()\n",
    "```"
   ]
  },
  {
   "cell_type": "markdown",
   "metadata": {},
   "source": [
    "```python\n",
    "ax.plot(df['col_x'],\n",
    "        df['col_y'],\n",
    "        marker='v') # choosing markers\n",
    "plt.show()\n",
    "```\n",
    "https://matplotlib.org/api/markers_api.html"
   ]
  },
  {
   "cell_type": "markdown",
   "metadata": {},
   "source": [
    "```python\n",
    "ax.plot(df['col_x'],\n",
    "        df['col_y'],\n",
    "        marker='v',\n",
    "        linestyle='--') # setting the linestyle\n",
    "plt.show()\n",
    "```"
   ]
  },
  {
   "cell_type": "markdown",
   "metadata": {},
   "source": [
    "```python\n",
    "ax.plot(df['col_x'],\n",
    "        df['col_y'],\n",
    "        marker='v',\n",
    "        linestyle='None') # eliminating lines\n",
    "plt.show()\n",
    "```"
   ]
  },
  {
   "cell_type": "markdown",
   "metadata": {
    "slideshow": {
     "slide_type": "subslide"
    }
   },
   "source": [
    "```python\n",
    "ax.plot(df['col_x'],\n",
    "        df['col_y'],\n",
    "        marker='v',\n",
    "        linestyle='--', \n",
    "        color='r') # choosing color\n",
    "plt.show()\n",
    "```"
   ]
  },
  {
   "cell_type": "markdown",
   "metadata": {
    "slideshow": {
     "slide_type": "fragment"
    }
   },
   "source": [
    "```python\n",
    "ax.set_xlabel(\"x_label_string\") # customizing the axes labels\n",
    "plt.show()\n",
    "```"
   ]
  },
  {
   "cell_type": "markdown",
   "metadata": {},
   "source": [
    "```python\n",
    "ax.set_xlabel(\"x_label_string\")\n",
    "ax.set_ylabel(\"y_label_string\") # customizing the axes labels\n",
    "plt.show()\n",
    "```"
   ]
  },
  {
   "cell_type": "markdown",
   "metadata": {},
   "source": [
    "```python\n",
    "ax.set_title(\"title_string\") # adding a title\n",
    "plt.show()\n",
    "```"
   ]
  },
  {
   "cell_type": "markdown",
   "metadata": {
    "slideshow": {
     "slide_type": "subslide"
    }
   },
   "source": [
    "### Small multiples"
   ]
  },
  {
   "cell_type": "markdown",
   "metadata": {
    "slideshow": {
     "slide_type": "fragment"
    }
   },
   "source": [
    "```python\n",
    "fig, ax = plt.subplots(3, 2) # small multiples with plt.subplots\n",
    "plt.show()\n",
    "```"
   ]
  },
  {
   "cell_type": "markdown",
   "metadata": {},
   "source": [
    "```python\n",
    "ax.shape\n",
    "```\n",
    "```\n",
    "(3, 2)\n",
    "```"
   ]
  },
  {
   "cell_type": "markdown",
   "metadata": {},
   "source": [
    "```python\n",
    "ax[0, 0].plot(df[\"col_x\"], # adding data to subplots\n",
    "              df[\"col_y\"],\n",
    "              color='b')\n",
    "plt.show()\n",
    "```"
   ]
  },
  {
   "cell_type": "markdown",
   "metadata": {
    "slideshow": {
     "slide_type": "subslide"
    }
   },
   "source": [
    "```python\n",
    "fig, ax = plt.subplots(2, 1) # subplots with data\n",
    "\n",
    "ax[0].plot(df['col_x'], df['col_y_1'],\n",
    "           color='b')\n",
    "ax[0].plot(df['col_x'], df['col_y_2'],\n",
    "           linestyle='--', color='b')\n",
    "ax[0].plot(df['col_x'], df['col_y_3'],\n",
    "           linestyle='--', color='b')\n",
    "\n",
    "ax[1].plot(df2['col_x'], df2['col_y_1'],\n",
    "           color='r')\n",
    "ax[1].plot(df2['col_x'], df2['col_y_2'],\n",
    "           linestyle='--', color='r')\n",
    "ax[1].plot(df2['col_x'], df2['col_y_3'],\n",
    "           linestyle='--', color='r')\n",
    "\n",
    "ax[0].set_ylabel('y1_label_string')\n",
    "ax[1].set_ylabel('y2_label_string')\n",
    "\n",
    "ax[1].set_xlabel('x_label_string')\n",
    "\n",
    "plt.show()\n",
    "```"
   ]
  },
  {
   "cell_type": "markdown",
   "metadata": {
    "slideshow": {
     "slide_type": "fragment"
    }
   },
   "source": [
    "```python\n",
    "fig, ax = plt.subplots(2, 1, sharey=True) # sharing the y-axis range\n",
    "```"
   ]
  },
  {
   "cell_type": "markdown",
   "metadata": {
    "slideshow": {
     "slide_type": "subslide"
    }
   },
   "source": [
    "### Plotting Time-Series Data"
   ]
  },
  {
   "cell_type": "markdown",
   "metadata": {
    "slideshow": {
     "slide_type": "fragment"
    }
   },
   "source": [
    "```python\n",
    "import pandas as pd\n",
    "df_time = pd.read_csv('df_time.csv',\n",
    "                      parse_dates=[\"date\"],\n",
    "                      index_col=\"date\")\n",
    "```"
   ]
  },
  {
   "cell_type": "markdown",
   "metadata": {},
   "source": [
    "```python\n",
    "df_time.index\n",
    "```\n",
    "```\n",
    "DatetimeIndex(...)\n",
    "```"
   ]
  },
  {
   "cell_type": "markdown",
   "metadata": {},
   "source": [
    "```python\n",
    "import matplotlib.pyplot as plt\n",
    "fig, ax = plt.subplots()\n",
    "\n",
    "ax.plot(df_time.index, df_time['col_y']) # plotting time-series data\n",
    "ax.set_xlabel('Time')\n",
    "ax.set_ylabel('y_label_string')\n",
    "plt.show()\n",
    "```"
   ]
  },
  {
   "cell_type": "markdown",
   "metadata": {},
   "source": [
    "```python\n",
    "sixties = df_time[\"1960-01-01\":\"1969-12-31\"] # zooming in on a decade\n",
    "\n",
    "fig, ax = plt.subplots()\n",
    "ax.plot(sixties.index, sixties['col_y'])\n",
    "ax.set_xlabel('Time')\n",
    "ax.set_ylabel('y_label_string')\n",
    "plt.show()\n",
    "```"
   ]
  },
  {
   "cell_type": "markdown",
   "metadata": {
    "slideshow": {
     "slide_type": "subslide"
    }
   },
   "source": [
    "```python\n",
    "sixty_nine = df_time[\"1969-01-01\":\"1969-12-31\"] # zooming in on one year\n",
    "\n",
    "fig, ax = plt.subplots()\n",
    "ax.plot(sixty_nine.index, sixty_nine['col_y'])\n",
    "ax.set_xlabel('Time')\n",
    "ax.set_ylabel('y_label_string')\n",
    "plt.show()\n",
    "```"
   ]
  },
  {
   "cell_type": "markdown",
   "metadata": {
    "slideshow": {
     "slide_type": "fragment"
    }
   },
   "source": [
    "```python\n",
    "fig, ax = plt.subplots()\n",
    "ax.plot(df_time.index, df_time[\"col_y1\"])\n",
    "ax.set_xlabel('Time')\n",
    "ax.set_ylabel('y1_label_string')\n",
    "\n",
    "ax2 = ax.twinx() # using twin axes plotting two time-series together\n",
    "ax2.plot(df_time.index, df_time[\"col_y2\"])\n",
    "ax2.set_ylabel('y2_label_string')\n",
    "\n",
    "plt.show()\n",
    "```"
   ]
  },
  {
   "cell_type": "markdown",
   "metadata": {},
   "source": [
    "```python\n",
    "fig, ax = plt.subplots() # seperating variables by color\n",
    "ax.plot(df_time.index, df_time[\"col_y1\"], color= 'blue')\n",
    "ax.set_xlabel('Time')\n",
    "ax.set_ylabel('y1_label_string', color='blue')\n",
    "\n",
    "ax2 = ax.twinx() \n",
    "ax2.plot(df_time.index, df_time[\"col_y2\"], color= 'red')\n",
    "ax2.set_ylabel('y2_label_string', color= 'red')\n",
    "\n",
    "plt.show()\n",
    "```"
   ]
  },
  {
   "cell_type": "markdown",
   "metadata": {
    "slideshow": {
     "slide_type": "subslide"
    }
   },
   "source": [
    "```python\n",
    "fig, ax = plt.subplots()\n",
    "ax.plot(df_time.index, df_time[\"col_y1\"], color= 'blue')\n",
    "ax.set_xlabel('Time')\n",
    "ax.set_ylabel('y1_label_string', color='blue')\n",
    "ax.tick_params('y', colors='blue')  # coloring the ticks\n",
    "\n",
    "ax2 = ax.twinx() \n",
    "ax2.plot(df_time.index, df_time[\"col_y2\"], color= 'red')\n",
    "ax2.set_ylabel('y2_label_string', color= 'red')\n",
    "ax.tick_params('y', colors='red')\n",
    "\n",
    "plt.show()\n",
    "```"
   ]
  },
  {
   "cell_type": "markdown",
   "metadata": {
    "slideshow": {
     "slide_type": "subslide"
    }
   },
   "source": [
    "### Using our function"
   ]
  },
  {
   "cell_type": "markdown",
   "metadata": {
    "slideshow": {
     "slide_type": "fragment"
    }
   },
   "source": [
    "A function that plots time-series\n",
    "```python\n",
    "def plot_timeseries(axes, x, y, color, xlabel, ylabel):\n",
    "    axes.plot(x, y, color=color)\n",
    "    axes.set_xlabel(xlabel)\n",
    "    axes.set_ylabel(ylabel, color=color)\n",
    "    axes.tick_params('y', colors=color)\n",
    "```"
   ]
  },
  {
   "cell_type": "markdown",
   "metadata": {},
   "source": [
    "```python\n",
    "fig, ax = plt.subplots()\n",
    "\n",
    "plot_timeseries(ax, df_time.index, df_time['col_y1'],\n",
    "                'blue', 'Time', 'y1_label_string')\n",
    "ax2 = ax.twinx()\n",
    "plot_timeseries(ax, df_time.index, df_time['col_y2'],\n",
    "                'red', 'Time', 'y2_label_string')\n",
    "plt.show()\n",
    "```"
   ]
  },
  {
   "cell_type": "markdown",
   "metadata": {
    "slideshow": {
     "slide_type": "subslide"
    }
   },
   "source": [
    "```python\n",
    "fig, ax = plt.subplots()\n",
    "\n",
    "plot_timeseries(ax, df_time.index, df_time['col_y1'],\n",
    "                'blue', 'Time', 'y1_label_string')\n",
    "ax2 = ax.twinx()\n",
    "plot_timeseries(ax, df_time.index, df_time['col_y2'],\n",
    "                'red', 'Time', 'y2_label_string')\n",
    "ax2.annotate(\"string\", xy=[pd.TimeStamp(\"2015-10-06\"), y_tick]) # annotation\n",
    "plt.show()\n",
    "```"
   ]
  },
  {
   "cell_type": "markdown",
   "metadata": {
    "slideshow": {
     "slide_type": "fragment"
    }
   },
   "source": [
    "```python\n",
    "ax2.annotate(\"string\",\n",
    "             xy=(pd.Timestamp('2015-10-06'), y_tick),\n",
    "             xytext=(pd.Timestamp('2008-10-06'), y_tick2),\n",
    "             arrowprops={}) # adding arrows to annotation\n",
    "```"
   ]
  },
  {
   "cell_type": "markdown",
   "metadata": {},
   "source": [
    "```python\n",
    "ax2.annotate(\"string\",\n",
    "             xy=(pd.Timestamp('2015-10-06'), y_tick),\n",
    "             xytext=(pd.Timestamp('2008-10-06'), y_tick2),\n",
    "             arrowprops={\"arrowstyle\":\"->\", \"color\":\"gray\"}) # customizing arrow properties\n",
    "```"
   ]
  },
  {
   "cell_type": "markdown",
   "metadata": {
    "slideshow": {
     "slide_type": "subslide"
    }
   },
   "source": [
    "### Quantitative comparisons: bar-charts"
   ]
  },
  {
   "cell_type": "markdown",
   "metadata": {
    "slideshow": {
     "slide_type": "fragment"
    }
   },
   "source": [
    "```python\n",
    "df = pd.read_csv('df.csv', index_col=0)\n",
    "fig, ax = plt.subplots()\n",
    "ax.bar(df.index, df[\"col_y\"])\n",
    "plt.show()\n",
    "```"
   ]
  },
  {
   "cell_type": "markdown",
   "metadata": {},
   "source": [
    "```python\n",
    "df = pd.read_csv('df.csv', index_col=0)\n",
    "fig, ax = plt.subplots()\n",
    "ax.bar(df.index, df[\"col_y\"])\n",
    "\n",
    "ax.set_xticklabels(df.index, rotation=90) # rotate the tick labels\n",
    "ax.set_ylabel(\"y_label_string\")\n",
    "\n",
    "plt.show()\n",
    "```"
   ]
  },
  {
   "cell_type": "markdown",
   "metadata": {},
   "source": [
    "```python\n",
    "df = pd.read_csv('df.csv', index_col=0)\n",
    "fig, ax = plt.subplots()\n",
    "ax.bar(df.index, df[\"col_y1\"])\n",
    "ax.bar(df.index, df[\"col_y2\"], bottom= df['col_y1']) # visualizing other col, stacked bar chart\n",
    "\n",
    "ax.set_xticklabels(df.index, rotation=90)\n",
    "ax.set_ylabel(\"y_label_string\")\n",
    "plt.show()\n",
    "```"
   ]
  },
  {
   "cell_type": "markdown",
   "metadata": {},
   "source": [
    "```python\n",
    "df = pd.read_csv('df.csv', index_col=0)\n",
    "fig, ax = plt.subplots()\n",
    "ax.bar(df.index, df[\"col_y1\"])\n",
    "ax.bar(df.index, df[\"col_y2\"], bottom= df['col_y1']) \n",
    "ax.bar(df.index, df[\"col_y3\"], bottom= df['col_y1'] + df['col_y2']) # visualizing other cols\n",
    "\n",
    "ax.set_xticklabels(df.index, rotation=90)\n",
    "ax.set_ylabel(\"y_label_string\")\n",
    "plt.show()\n",
    "```"
   ]
  },
  {
   "cell_type": "markdown",
   "metadata": {},
   "source": [
    "```python\n",
    "df = pd.read_csv('df.csv', index_col=0)\n",
    "fig, ax = plt.subplots()\n",
    "ax.bar(df.index, df[\"col_y1\"], label='y1')\n",
    "ax.bar(df.index, df[\"col_y2\"], bottom= df['col_y1'], label='y2') \n",
    "ax.bar(df.index, df[\"col_y3\"], bottom= df['col_y1'] + df['col_y2'], label= 'y3')\n",
    "ax.set_xticklabels(df.index, rotation=90)\n",
    "ax.set_ylabel(\"y_label_string\")\n",
    "\n",
    "ax.legend() # adding labels and a legend\n",
    "\n",
    "plt.show()\n",
    "```"
   ]
  },
  {
   "cell_type": "markdown",
   "metadata": {
    "slideshow": {
     "slide_type": "subslide"
    }
   },
   "source": [
    "### Quantitative comparisons: histograms"
   ]
  },
  {
   "cell_type": "markdown",
   "metadata": {
    "slideshow": {
     "slide_type": "fragment"
    }
   },
   "source": [
    "```python\n",
    "fig, ax = plt.subplots()\n",
    "ax.hist(df[\"col_y\"]) # introducing histograms\n",
    "ax.hist(df2[\"col_y\"])\n",
    "ax.set_xlabel(\"x_label_string\")\n",
    "ax.set_ylabel(\"y_label_string\")\n",
    "plt.show()\n",
    "```"
   ]
  },
  {
   "cell_type": "markdown",
   "metadata": {},
   "source": [
    "```python\n",
    "fig, ax = plt.subplots()\n",
    "ax.hist(df[\"col_y\"], label='y1') \n",
    "ax.hist(df2[\"col_y\"], label='y2')\n",
    "ax.set_xlabel(\"x_label_string\")\n",
    "ax.set_ylabel(\"y_label_string\")\n",
    "ax.legend() # labels and legend\n",
    "plt.show()\n",
    "```"
   ]
  },
  {
   "cell_type": "markdown",
   "metadata": {},
   "source": [
    "```python\n",
    "fig, ax = plt.subplots()\n",
    "ax.hist(df[\"col_y\"], label='y1', \n",
    "        bins=[150, 160, 170, 180, 190, 200, 210],\n",
    "        histtype=\"step\") # customizing transparency\n",
    "ax.hist(df2[\"col_y\"], label='y2',\n",
    "        bins=[150, 160, 170, 180, 190, 200, 210],\n",
    "        histtype=\"step\")\n",
    "ax.set_xlabel(\"x_label_string\")\n",
    "ax.set_ylabel(\"y_label_string\")\n",
    "ax.legend() \n",
    "plt.show()\n",
    "```"
   ]
  },
  {
   "cell_type": "markdown",
   "metadata": {
    "slideshow": {
     "slide_type": "subslide"
    }
   },
   "source": [
    "### Statistical plotting"
   ]
  },
  {
   "cell_type": "markdown",
   "metadata": {
    "slideshow": {
     "slide_type": "fragment"
    }
   },
   "source": [
    "```python\n",
    "fig, ax = plt.subplots()\n",
    "\n",
    "ax.bar(\"col_y1\",\n",
    "       df[\"col_y\"].mean(),\n",
    "       yerr=df[\"col_y\"].std()) # adding error bars to bar charts\n",
    "ax.bar(\"col_y2\",\n",
    "       df2[\"col_y\"].mean(),\n",
    "       yerr=df2[\"col_y\"].std())\n",
    "\n",
    "ax.set_ylabel(\"y_label_string\")\n",
    "plt.show()\n",
    "```"
   ]
  },
  {
   "cell_type": "markdown",
   "metadata": {},
   "source": [
    "```python\n",
    "fig, ax = plt.subplots() # adding error bars to line plots\n",
    "\n",
    "ax.errorbar(df[\"col_x\"],\n",
    "            df[\"col_y\"],\n",
    "            yerr=df[\"col_y_std\"])\n",
    "\n",
    "ax.errorbar(df2[\"col_x\"],\n",
    "            df2[\"col_y\"],\n",
    "            yerr=df2[\"col_y_std\"])\n",
    "ax.set_ylabel(\"y_label_string\")\n",
    "plt.show()\n",
    "```"
   ]
  },
  {
   "cell_type": "markdown",
   "metadata": {},
   "source": [
    "```python\n",
    "fig, ax = plt.subplots() # adding boxplots\n",
    "\n",
    "ax.boxplot((df[\"col_y\"],\n",
    "            df2[\"col_y\"])\n",
    "           \n",
    "ax.set_xticklabels([\"df_label_string\", \"df2_label_string\"])\n",
    "ax.set_ylabel(\"y_label_string\")\n",
    "plt.show()\n",
    "```"
   ]
  },
  {
   "cell_type": "markdown",
   "metadata": {
    "slideshow": {
     "slide_type": "subslide"
    }
   },
   "source": [
    "### Quantitative comparisons: scatter plots"
   ]
  },
  {
   "cell_type": "markdown",
   "metadata": {
    "slideshow": {
     "slide_type": "fragment"
    }
   },
   "source": [
    "```python\n",
    "fig, ax = plt.subplots() # introducing scatter plots\n",
    "\n",
    "ax.scatter((df[\"col_x\"], df[\"col_y\"])\n",
    "           \n",
    "ax.set_xlabel([\"x_label_string\"])\n",
    "ax.set_ylabel(\"y_label_string\")\n",
    "plt.show()\n",
    "```"
   ]
  },
  {
   "cell_type": "markdown",
   "metadata": {},
   "source": [
    "```python        \n",
    "eighties = df_time[\"1980-01-01\":\"1989-12-31\"]\n",
    "nineties = df_time[\"1990-01-01\":\"1999-12-31\"]\n",
    "           \n",
    "fig, ax = plt.subplots() \n",
    "\n",
    "ax.scatter(eighties[\"col_x\"], eighties[\"col_y\"],\n",
    "           color=\"red\", label=\"eighties\") # comparison by color\n",
    "ax.scatter(nineties[\"col_x\"], nineties[\"col_y\"],\n",
    "           color=\"blue\", label=\"nineties\")\n",
    "ax.legend()\n",
    "ax.set_xlabel(\"x_label_string\")\n",
    "ax.set_ylabel(\"y_label_string\")\n",
    "plt.show()\n",
    "```"
   ]
  },
  {
   "cell_type": "markdown",
   "metadata": {},
   "source": [
    "```python\n",
    "fig, ax = plt.subplots()\n",
    "\n",
    "ax.scatter((df_time[\"col_x\"], df_time[\"col_y\"],\n",
    "           c= df_time.index) # encoding a third variable by color\n",
    "           \n",
    "ax.set_xlabel([\"x_label_string\"])\n",
    "ax.set_ylabel(\"y_label_string\")\n",
    "plt.show()\n",
    "```"
   ]
  },
  {
   "cell_type": "markdown",
   "metadata": {
    "slideshow": {
     "slide_type": "subslide"
    }
   },
   "source": [
    "### Preparing figures to share with others"
   ]
  },
  {
   "cell_type": "markdown",
   "metadata": {
    "slideshow": {
     "slide_type": "fragment"
    }
   },
   "source": [
    "```python\n",
    "plt.style.use(\"ggplot\") # choosing a style\n",
    "```"
   ]
  },
  {
   "cell_type": "markdown",
   "metadata": {},
   "source": [
    "```python\n",
    "plt.style.use(\"default\") # back to default\n",
    "```"
   ]
  },
  {
   "cell_type": "markdown",
   "metadata": {},
   "source": [
    "```python\n",
    "plt.style.use(\"bmh\") # bmh style\n",
    "```"
   ]
  },
  {
   "cell_type": "markdown",
   "metadata": {},
   "source": [
    "```python\n",
    "plt.style.use(\"seaborn-colorblind\") # seaborn styles\n",
    "```"
   ]
  },
  {
   "cell_type": "markdown",
   "metadata": {
    "slideshow": {
     "slide_type": "subslide"
    }
   },
   "source": [
    "### Saving figure"
   ]
  },
  {
   "cell_type": "markdown",
   "metadata": {
    "slideshow": {
     "slide_type": "fragment"
    }
   },
   "source": [
    "```python\n",
    "fig.savefig(\"figure.png\") # saving the figure to file\n",
    "```"
   ]
  },
  {
   "cell_type": "markdown",
   "metadata": {},
   "source": [
    "```python\n",
    "fig.savefig(\"figure.jpg\") # different file formats\n",
    "fig.savefig(\"figure.jpg\", quality=50)\n",
    "fig.savefig(\"figure.svg\")\n",
    "```"
   ]
  },
  {
   "cell_type": "markdown",
   "metadata": {},
   "source": [
    "```python\n",
    "fig.savefig(\"figure.png\", dpi=300) # resolution\n",
    "```"
   ]
  },
  {
   "cell_type": "markdown",
   "metadata": {},
   "source": [
    "```python\n",
    "fig.set_size_inches([5, 3]) # size\n",
    "```"
   ]
  }
 ],
 "metadata": {
  "kernelspec": {
   "display_name": "Python 3 (ipykernel)",
   "language": "python",
   "name": "python3"
  },
  "language_info": {
   "codemirror_mode": {
    "name": "ipython",
    "version": 3
   },
   "file_extension": ".py",
   "mimetype": "text/x-python",
   "name": "python",
   "nbconvert_exporter": "python",
   "pygments_lexer": "ipython3",
   "version": "3.8.13"
  },
  "toc": {
   "base_numbering": 1,
   "nav_menu": {},
   "number_sections": true,
   "sideBar": true,
   "skip_h1_title": false,
   "title_cell": "Table of Contents",
   "title_sidebar": "Contents",
   "toc_cell": false,
   "toc_position": {},
   "toc_section_display": true,
   "toc_window_display": false
  },
  "varInspector": {
   "cols": {
    "lenName": 16,
    "lenType": 16,
    "lenVar": 40
   },
   "kernels_config": {
    "python": {
     "delete_cmd_postfix": "",
     "delete_cmd_prefix": "del ",
     "library": "var_list.py",
     "varRefreshCmd": "print(var_dic_list())"
    },
    "r": {
     "delete_cmd_postfix": ") ",
     "delete_cmd_prefix": "rm(",
     "library": "var_list.r",
     "varRefreshCmd": "cat(var_dic_list()) "
    }
   },
   "types_to_exclude": [
    "module",
    "function",
    "builtin_function_or_method",
    "instance",
    "_Feature"
   ],
   "window_display": false
  }
 },
 "nbformat": 4,
 "nbformat_minor": 2
}