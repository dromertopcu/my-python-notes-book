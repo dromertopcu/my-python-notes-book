{
 "cells": [
  {
   "cell_type": "markdown",
   "id": "ff4ee39f-2a1d-4591-94e3-d35fae3c5acd",
   "metadata": {
    "tags": []
   },
   "source": [
    "## Intermediate Importing Data in Python"
   ]
  },
  {
   "cell_type": "markdown",
   "id": "4f01cf0a-c2c9-4dae-9f1a-29bc96c1ad8b",
   "metadata": {
    "tags": []
   },
   "source": [
    "### Importing flat files from the web"
   ]
  },
  {
   "cell_type": "markdown",
   "id": "e7a93f55-8f4a-4218-9b20-09a2edc9b2c4",
   "metadata": {
    "tags": []
   },
   "source": [
    "**Automate file download in Python**\n",
    "```python\n",
    "from urllib.request import urlretrieve \n",
    "url = 'http://archive.ics.uci.edu/ml/machine-learning-databases/wine-quality/ winequality-white.csv' \n",
    "urlretrieve(url, 'winequality-white.csv')\n",
    "\n",
    "```"
   ]
  },
  {
   "cell_type": "markdown",
   "id": "088f9f54-fd24-431f-8169-5568257fcf57",
   "metadata": {
    "tags": []
   },
   "source": [
    "**Using Pandas**\n",
    "```python\n",
    "import pandas as pd\n",
    "\n",
    "df = pd.read_csv(url,sep=';')\n",
    "```"
   ]
  },
  {
   "cell_type": "markdown",
   "id": "b8c91ad5-abe9-47bc-8394-99d0d298e942",
   "metadata": {
    "tags": []
   },
   "source": [
    "### HTTP requests to import files from the web"
   ]
  },
  {
   "cell_type": "markdown",
   "id": "da6c8666-5366-4ba7-99eb-10514e60e3d9",
   "metadata": {
    "tags": []
   },
   "source": [
    "**GET requests using urllib**\n",
    "```python\n",
    "from urllib.request import urlopen, Request \n",
    "url = \"https://www.wikipedia.org/\" \n",
    "request = Request(url) \n",
    "response = urlopen(request) \n",
    "html = response.read() \n",
    "response.close()\n",
    "\n",
    "```"
   ]
  },
  {
   "cell_type": "markdown",
   "id": "3b6695d4-5554-4f44-9daf-a69c64e85c45",
   "metadata": {
    "tags": []
   },
   "source": [
    "**GET requests using requests**\n",
    "```python\n",
    "import requests \n",
    "url = \"https://www.wikipedia.org/\" \n",
    "r = requests.get(url) \n",
    "text = r.text \n",
    "```"
   ]
  },
  {
   "cell_type": "markdown",
   "id": "d253b8eb-108c-4c59-8398-ea6c2e103eab",
   "metadata": {
    "tags": []
   },
   "source": [
    "### Scraping the web in Python"
   ]
  },
  {
   "cell_type": "markdown",
   "id": "79b5eefe-8e2c-49c0-ba5b-c72fa3763c3b",
   "metadata": {
    "tags": []
   },
   "source": [
    "**BeautifulSoup**\n",
    "```python\n",
    "from bs4 import BeautifulSoup \n",
    "import requests \n",
    "\n",
    "url = 'https://www.crummy.com/software/BeautifulSoup/' \n",
    "\n",
    "r = requests.get(url) \n",
    "\n",
    "html_doc = r.text \n",
    "\n",
    "soup = BeautifulSoup(html_doc)\n",
    "\n",
    "print(soup.prettify()) \n",
    "\n",
    "print(soup.title) \n",
    "\n",
    "print(soup.get_text())\n",
    "\n",
    "for link in soup.find_all('a'):     \n",
    "    print(link.get('href'))\n",
    "```"
   ]
  },
  {
   "cell_type": "markdown",
   "id": "85dfbcf8-9bbb-4e3d-ba5c-4d798df57e51",
   "metadata": {
    "tags": []
   },
   "source": [
    "### Introduction to APIs and JSONs"
   ]
  },
  {
   "cell_type": "markdown",
   "id": "0eb93ea2-1b0b-49ea-af54-e664710a8b86",
   "metadata": {
    "tags": []
   },
   "source": [
    "**Loading JSONs in Python**\n",
    "```python\n",
    "import json \n",
    "with open('snakes.json', 'r') as json_file:         \n",
    "    json_data = json.load(json_file)\n",
    "    \n",
    "for key, value in json_data.items():     \n",
    "    print(key + ':', value) \n",
    "```"
   ]
  },
  {
   "cell_type": "markdown",
   "id": "fb3e46b7-31f0-430d-b03f-96421636be7b",
   "metadata": {
    "tags": []
   },
   "source": [
    "**Connecting to an API in Python**\n",
    "```python\n",
    "import requests \n",
    "url = 'http://www.omdbapi.com/?t=hackers' #?t=hackers query string \n",
    "r = requests.get(url) \n",
    "json_data = r.json() \n",
    "for key, value in json_data.items():     \n",
    "    print(key + ':', value) \n",
    "```"
   ]
  },
  {
   "cell_type": "markdown",
   "id": "d01d1b88-f927-4beb-9af9-1b1f5e37f207",
   "metadata": {
    "tags": []
   },
   "source": [
    "### Twitter API"
   ]
  },
  {
   "cell_type": "markdown",
   "id": "016228c0-acc2-4e1e-84e7-ecea95af5c10",
   "metadata": {
    "tags": []
   },
   "source": [
    "**Authentication handler**\n",
    "```python\n",
    "import tweepy, json  \n",
    "access_token = \"...\" \n",
    "access_token_secret = \"...\" \n",
    "consumer_key = \"...\" \n",
    "consumer_secret = \"...\"   \n",
    "auth = tweepy.OAuthHandler(consumer_key, consumer_secret) \n",
    "auth.set_access_token(access_token, access_token_secret) \n",
    "```"
   ]
  },
  {
   "cell_type": "markdown",
   "id": "e7cb2858-3145-4bfe-a296-060c1485bd06",
   "metadata": {
    "tags": []
   },
   "source": [
    "**Define stream listener class**\n",
    "```python\n",
    "class MyStreamListener(tweepy.StreamListener):     \n",
    "    def __init__(self, api=None):         \n",
    "        super(MyStreamListener, self).__init__()         \n",
    "        self.num_tweets = 0         \n",
    "        self.file = open(\"tweets.txt\", \"w\")     \n",
    "    def on_status(self, status):         \n",
    "        tweet = status._json \n",
    "        self.file.write(json.dumps(tweet) + '\\\\n')         \n",
    "        tweet_list.append(status)         \n",
    "        self.num_tweets += 1         \n",
    "        if self.num_tweets < 100:             \n",
    "            return True         \n",
    "        else:             \n",
    "            return False         \n",
    "        self.file.close()  \n",
    "```"
   ]
  },
  {
   "cell_type": "markdown",
   "id": "75d9b8d7-e863-4506-aa0a-6683744419e9",
   "metadata": {
    "tags": []
   },
   "source": [
    "**Stream tweets**\n",
    "```python\n",
    "# Create Streaming object and authenticate \n",
    "l = MyStreamListener() \n",
    "stream = tweepy.Stream(auth, l)   \n",
    "# This line filters Twitter Streams to capture data by keywords: \n",
    "stream.filter(track=['apples', 'oranges']) \n",
    "\n",
    "```"
   ]
  }
 ],
 "metadata": {
  "kernelspec": {
   "display_name": "Python 3 (ipykernel)",
   "language": "python",
   "name": "python3"
  },
  "language_info": {
   "codemirror_mode": {
    "name": "ipython",
    "version": 3
   },
   "file_extension": ".py",
   "mimetype": "text/x-python",
   "name": "python",
   "nbconvert_exporter": "python",
   "pygments_lexer": "ipython3",
   "version": "3.8.13"
  },
  "toc": {
   "base_numbering": 1,
   "nav_menu": {},
   "number_sections": true,
   "sideBar": true,
   "skip_h1_title": false,
   "title_cell": "Table of Contents",
   "title_sidebar": "Contents",
   "toc_cell": false,
   "toc_position": {},
   "toc_section_display": true,
   "toc_window_display": false
  },
  "varInspector": {
   "cols": {
    "lenName": 16,
    "lenType": 16,
    "lenVar": 40
   },
   "kernels_config": {
    "python": {
     "delete_cmd_postfix": "",
     "delete_cmd_prefix": "del ",
     "library": "var_list.py",
     "varRefreshCmd": "print(var_dic_list())"
    },
    "r": {
     "delete_cmd_postfix": ") ",
     "delete_cmd_prefix": "rm(",
     "library": "var_list.r",
     "varRefreshCmd": "cat(var_dic_list()) "
    }
   },
   "types_to_exclude": [
    "module",
    "function",
    "builtin_function_or_method",
    "instance",
    "_Feature"
   ],
   "window_display": false
  }
 },
 "nbformat": 4,
 "nbformat_minor": 5
}