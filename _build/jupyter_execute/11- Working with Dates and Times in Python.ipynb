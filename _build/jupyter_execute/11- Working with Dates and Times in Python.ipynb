{
 "cells": [
  {
   "cell_type": "markdown",
   "id": "b5118884-7dc0-42ee-a61c-480f467d5e74",
   "metadata": {
    "tags": []
   },
   "source": [
    "## Working with Dates and Times in Python"
   ]
  },
  {
   "cell_type": "markdown",
   "id": "c9e7ba3a-91e3-4455-9911-e1246a220816",
   "metadata": {
    "tags": []
   },
   "source": [
    "### Dates in Python"
   ]
  },
  {
   "cell_type": "markdown",
   "id": "bf8a7988-cf36-49d9-8994-a1d621f37841",
   "metadata": {
    "tags": []
   },
   "source": [
    "**Creating date objects**\n",
    "```python\n",
    "#Import date \n",
    "from datetime import date \n",
    "#Create dates \n",
    "two_hurricanes_dates = [date(2016, 10, 7), date(2017, 6, 21)] \n",
    "\n",
    "print(two_hurricanes_dates[0].year) \n",
    "print(two_hurricanes_dates[0].month) \n",
    "print(two_hurricanes_dates[0].day) \n",
    "print(two_hurricanes_dates[0].weekday()) \n",
    "```"
   ]
  },
  {
   "cell_type": "markdown",
   "id": "34e6befd-b18b-4826-a509-a5410259aa09",
   "metadata": {
    "tags": []
   },
   "source": [
    "### Math with dates"
   ]
  },
  {
   "cell_type": "markdown",
   "id": "fe9d81fe-1f9e-4764-b77e-0b3f6e7e18e0",
   "metadata": {
    "tags": []
   },
   "source": [
    "```python\n",
    "#Import date \n",
    "from datetime import date  \n",
    "#Create our dates \n",
    "d1 = date(2017, 11, 5)\n",
    "d2 = date(2017, 12, 4)\n",
    "\n",
    "#Subtract two dates \n",
    "delta = d2 - d1 \n",
    "print(delta.days)\n",
    "```"
   ]
  },
  {
   "cell_type": "markdown",
   "id": "f32cc724-6588-4511-9936-4f2361bf9afe",
   "metadata": {
    "tags": []
   },
   "source": [
    "**Timedelta**\n",
    "```python\n",
    "#Import timedelta \n",
    "from datetime import timedelta  \n",
    "\n",
    "#Create a 29 day timedelta \n",
    "td = timedelta(days=29) \n",
    "print(d1 + td)\n",
    "```"
   ]
  },
  {
   "cell_type": "markdown",
   "id": "ce88eeef-6970-4da3-a3e1-51b97f34c0de",
   "metadata": {
    "tags": []
   },
   "source": [
    "### Turning dates into strings"
   ]
  },
  {
   "cell_type": "markdown",
   "id": "06dee585-4096-4ae6-8855-7ba267fc3987",
   "metadata": {
    "tags": []
   },
   "source": [
    "**ISO 8601 format**\n",
    "```python\n",
    "from datetime import date  \n",
    "#Example date \n",
    "d = date(2017, 11, 5)   \n",
    "\n",
    "#ISO format: YYYY-MM-DD \n",
    "print(d) \n",
    "\n",
    "#Express the date in ISO 8601 format and put it in a list \n",
    "print( [d.isoformat()] ) \n",
    "```"
   ]
  },
  {
   "cell_type": "markdown",
   "id": "153ce571-ccaa-4562-9dec-a2dc87c7d6e2",
   "metadata": {
    "tags": []
   },
   "source": [
    "**Every other format: strftime**\n",
    "```python\n",
    "#Example date \n",
    "d = date(2017, 1, 5)  \n",
    "print(d.strftime(\"%Y\"))\n",
    "#Output: 2017\n",
    "\n",
    "#Format string with more text in it \n",
    "print(d.strftime(\"Year is %Y\")) \n",
    "#Output: Year is 2017 \n",
    "\n",
    "#Format: YYYY/MM/DD \n",
    "print(d.strftime(\"%Y/%m/%d\")) \n",
    "#Output: 2017/01/05 \n",
    "```"
   ]
  },
  {
   "cell_type": "markdown",
   "id": "a619b564-7dc3-4b03-9372-e2471bc69c1d",
   "metadata": {
    "tags": []
   },
   "source": [
    "### Adding time to the mix"
   ]
  },
  {
   "cell_type": "markdown",
   "id": "fff52146-fc96-4d74-91df-aa736bf30fcc",
   "metadata": {
    "tags": []
   },
   "source": [
    "**Dates and Times**\n",
    "```python\n",
    "#Import datetime \n",
    "from datetime import datetime \n",
    "dt = datetime(2017, 10, 1, 15, 23, 25, 500000) \n",
    "\n",
    "dt = datetime(year=2017, month=10, day=1, hour=15, minute=23, second=25, microsecond=500000)\n",
    "```"
   ]
  },
  {
   "cell_type": "markdown",
   "id": "d0dc1ee8-b4a4-4d55-8aea-e2269bcb0add",
   "metadata": {
    "tags": []
   },
   "source": [
    "**Replacing parts of a datetime**\n",
    "```python\n",
    "dt_hr = dt.replace(minute=0, second=0, microsecond=0) \n",
    "print(dt_hr)\n",
    "```"
   ]
  }
 ],
 "metadata": {
  "kernelspec": {
   "display_name": "Python 3 (ipykernel)",
   "language": "python",
   "name": "python3"
  },
  "language_info": {
   "codemirror_mode": {
    "name": "ipython",
    "version": 3
   },
   "file_extension": ".py",
   "mimetype": "text/x-python",
   "name": "python",
   "nbconvert_exporter": "python",
   "pygments_lexer": "ipython3",
   "version": "3.8.13"
  },
  "toc": {
   "base_numbering": 1,
   "nav_menu": {},
   "number_sections": true,
   "sideBar": true,
   "skip_h1_title": false,
   "title_cell": "Table of Contents",
   "title_sidebar": "Contents",
   "toc_cell": false,
   "toc_position": {},
   "toc_section_display": true,
   "toc_window_display": false
  },
  "varInspector": {
   "cols": {
    "lenName": 16,
    "lenType": 16,
    "lenVar": 40
   },
   "kernels_config": {
    "python": {
     "delete_cmd_postfix": "",
     "delete_cmd_prefix": "del ",
     "library": "var_list.py",
     "varRefreshCmd": "print(var_dic_list())"
    },
    "r": {
     "delete_cmd_postfix": ") ",
     "delete_cmd_prefix": "rm(",
     "library": "var_list.r",
     "varRefreshCmd": "cat(var_dic_list()) "
    }
   },
   "types_to_exclude": [
    "module",
    "function",
    "builtin_function_or_method",
    "instance",
    "_Feature"
   ],
   "window_display": false
  }
 },
 "nbformat": 4,
 "nbformat_minor": 5
}