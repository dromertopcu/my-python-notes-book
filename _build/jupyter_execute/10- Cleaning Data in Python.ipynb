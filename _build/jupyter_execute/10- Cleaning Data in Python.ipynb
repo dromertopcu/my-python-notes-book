{
 "cells": [
  {
   "cell_type": "markdown",
   "id": "82da40f9-6805-41d0-a595-41d1192a1bd0",
   "metadata": {
    "tags": []
   },
   "source": [
    "## Cleaning Data in Python !!"
   ]
  },
  {
   "cell_type": "markdown",
   "id": "b2b17de7-8c83-4098-bcf3-b7d65fc45135",
   "metadata": {
    "tags": []
   },
   "source": [
    "### Data type constraints"
   ]
  },
  {
   "cell_type": "markdown",
   "id": "3eb3878c-0b5d-4d85-a271-dfa1c2cfbb6d",
   "metadata": {
    "tags": []
   },
   "source": [
    "**String to integers**\n",
    "```python\n",
    "#Import CSV file and output header \n",
    "sales = pd.read_csv('sales.csv') \n",
    "\n",
    "# Get data types of columns \n",
    "sales.dtypes\n",
    "\n",
    "# Get DataFrame information \n",
    "sales.info()\n",
    "\n",
    "# Print sum of all Revenue column \n",
    "sales['Revenue'].sum()\n",
    "\n",
    "# Remove $ from Revenue column \n",
    "sales['Revenue'] = sales['Revenue'].str.strip('$') sales['Revenue'] = sales['Revenue'].astype('int') \n",
    "\n",
    "# Verify that Revenue is now an integer \n",
    "assert sales['Revenue'].dtype == 'int'\n",
    "\n",
    "```"
   ]
  },
  {
   "cell_type": "markdown",
   "id": "77374994-6e85-49e1-a889-f6e6113da217",
   "metadata": {
    "tags": []
   },
   "source": [
    "**The assert statement**\n",
    "```python\n",
    "#This will pass \n",
    "assert 1+1 == 2 \n",
    "\n",
    "# This will not pass \n",
    "assert 1+1 == 3 \n",
    "# Output : AssertionError                            \n",
    "#        Traceback (most recent call last)          \n",
    "#        assert 1+1 == 3 \n",
    "#        AssertionError: \n",
    "```"
   ]
  },
  {
   "cell_type": "markdown",
   "id": "7cd99611-80f7-4485-af56-136ee1cb2901",
   "metadata": {
    "tags": []
   },
   "source": [
    "**Numeric or categorical?**\n",
    "```python\n",
    "df[\"marriage_status\"] = df[\"marriage_status\"].astype('category') df.describe()\n",
    "```"
   ]
  },
  {
   "cell_type": "markdown",
   "id": "3d5c1163-b5a0-4bb0-8909-0446b24bc13a",
   "metadata": {
    "tags": []
   },
   "source": [
    "**How to find duplicate values?**\n",
    "```python\n",
    "#Get duplicate rows \n",
    "duplicates = height_weight.duplicated() \n",
    "height_weight[duplicates] \n",
    "```"
   ]
  },
  {
   "cell_type": "markdown",
   "id": "1541ccdc-bcf1-441d-ad7d-955e70a4e8e3",
   "metadata": {
    "tags": []
   },
   "source": [
    "```python\n",
    "#Column names to check for duplication \n",
    "column_names = ['first_name','last_name','address'] \n",
    "duplicates = height_weight.duplicated(subset = column_names, keep = False)\n",
    "```"
   ]
  },
  {
   "cell_type": "markdown",
   "id": "b8c3f8bd-48ac-47e3-a242-b65cdd672299",
   "metadata": {
    "tags": []
   },
   "source": [
    "**Treating duplicate values**\n",
    "```python\n",
    "#Group by column names and produce statistical summaries \n",
    "column_names = ['first_name','last_name','address'] \n",
    "summaries = {'height': 'max', 'weight': 'mean'} \n",
    "height_weight = height_weight.groupby(by = column_names).agg(summaries).reset_index()  \n",
    "\n",
    "# Make sure aggregation is done \n",
    "duplicates = height_weight.duplicated(subset = column_names, keep = False) \n",
    "height_weight[duplicates].sort_values(by = 'first_name') \n",
    "\n",
    "```"
   ]
  },
  {
   "cell_type": "markdown",
   "id": "2fa3d16d-1185-4e3b-a935-505bbcbf5826",
   "metadata": {
    "tags": []
   },
   "source": [
    "### Membership constraints"
   ]
  },
  {
   "cell_type": "markdown",
   "id": "553c4a7a-79cf-4cb9-a4b5-2ed4fa6d359e",
   "metadata": {
    "tags": []
   },
   "source": [
    "**Finding inconsistent categories**\n",
    "```python\n",
    "inconsistent_categories = set(study_data['blood_type']).difference(categories['blood_type']) \n",
    "\n",
    "print(inconsistent_categories) \n",
    "\n",
    "# Get and print rows with inconsistent categories \n",
    "inconsistent_rows = study_data['blood_type'].isin(inconsistent_categories)  \n",
    "\n",
    "study_data[inconsistent_rows] \n",
    "\n",
    "```"
   ]
  },
  {
   "cell_type": "markdown",
   "id": "1c685001-9b39-4a5a-a3f3-3eb297260431",
   "metadata": {
    "tags": []
   },
   "source": [
    "**Dropping inconsistent categories**\n",
    "```python\n",
    "# Drop inconsistent categories and get consistent data only\n",
    "consistent_data = study_data[~inconsistent_rows]\n",
    "\n",
    "```"
   ]
  },
  {
   "cell_type": "markdown",
   "id": "3656a884-2867-456d-9675-ee68f04fe238",
   "metadata": {
    "tags": []
   },
   "source": [
    "### Categorical Variables"
   ]
  },
  {
   "cell_type": "markdown",
   "id": "d80a804b-eed0-4326-9dbe-1200383cf248",
   "metadata": {
    "tags": []
   },
   "source": [
    "**Value consistency**\n",
    "```python\n",
    "marriage_status = demographics['marriage_status'] \n",
    "marriage_status.value_counts() \n",
    "```"
   ]
  },
  {
   "cell_type": "markdown",
   "id": "c5860a8b-7c92-4177-9e50-8075782cb861",
   "metadata": {
    "tags": []
   },
   "source": [
    "```python\n",
    "marriage_status.groupby('marriage_status').count() \n",
    "```"
   ]
  },
  {
   "cell_type": "markdown",
   "id": "316ac7bb-1095-4268-83bf-0204852b48a8",
   "metadata": {
    "tags": []
   },
   "source": [
    "```python\n",
    "# Capitalize  \n",
    "marriage_status['marriage_status'] = marriage_status['marriage_status'].str.upper() \n",
    "\n",
    "marriage_status['marriage_status'].value_counts()\n",
    "```"
   ]
  },
  {
   "cell_type": "markdown",
   "id": "60859340-87a6-423a-ac61-08b05492a2bd",
   "metadata": {
    "tags": []
   },
   "source": [
    "```python\n",
    "# Lowercase\n",
    "marriage_status['marriage_status'] = marriage_status['marriage_status'].str.lower() \n",
    "\n",
    "marriage_status['marriage_status'].value_counts()\n",
    "```"
   ]
  },
  {
   "cell_type": "markdown",
   "id": "62859e88-e466-4959-abfe-c373c3e12544",
   "metadata": {
    "tags": []
   },
   "source": [
    "```python\n",
    "# Strip all spaces\n",
    "demographics = demographics['marriage_status'].str.strip() \n",
    "\n",
    "demographics['marriage_status'].value_counts()\n",
    "```"
   ]
  },
  {
   "cell_type": "markdown",
   "id": "09edeea1-b227-40d3-8329-7df4de58983a",
   "metadata": {
    "tags": []
   },
   "source": [
    "**Collapsing data into categories\n",
    "```python\n",
    "# Using qcut() \n",
    "import pandas as pd \n",
    "group_names = ['First one', 'Second one', 'Third one'] \n",
    "demographics['income_group'] = pd.qcut(demographics['household_income'], q = 3,                                         labels = group_names) \n",
    "# Print income_group column \n",
    "demographics[['income_group', 'household_income']]\n",
    "```"
   ]
  },
  {
   "cell_type": "markdown",
   "id": "46851386-e25a-43f9-8418-f09d15e80565",
   "metadata": {
    "tags": []
   },
   "source": [
    "```python\n",
    "# Using cut() - create category ranges and names \n",
    "ranges = [0,200000,500000,np.inf] \n",
    "group_names = ['0-200K', '200K-500K', '500K+'] \n",
    "# Create income group column \n",
    "demographics['income_group'] = pd.cut(demographics['household_income'], bins=ranges, labels=group_names) \n",
    "\n",
    "demographics[['income_group', 'household_income']]\n",
    "```"
   ]
  },
  {
   "cell_type": "markdown",
   "id": "d8cd0316-05ed-4dd6-b461-f749b4c9d1b3",
   "metadata": {
    "tags": []
   },
   "source": [
    "```python\n",
    "# Create mapping dictionary and replace \n",
    "mapping = {'Microsoft':'DesktopOS', 'MacOS':'DesktopOS', 'Linux':'DesktopOS','IOS':'MobileOS', 'Android':'MobileOS'} \n",
    "\n",
    "devices['operating_system'] = devices['operating_system'].replace(mapping) \n",
    "\n",
    "devices['operating_system'].unique() \n",
    "```"
   ]
  },
  {
   "cell_type": "markdown",
   "id": "6b2df3b4-7688-42da-b94e-69dd13c7a4dc",
   "metadata": {
    "tags": []
   },
   "source": [
    "### Uniformity"
   ]
  },
  {
   "cell_type": "markdown",
   "id": "c1e0e40b-0387-448e-bf00-397e77b4b497",
   "metadata": {
    "tags": []
   },
   "source": [
    "```python\n",
    "temp_fah = temperatures.loc[temperatures['Temperature'] > 40, 'Temperature']  \n",
    "\n",
    "temp_cels = (temp_fah - 32) * (5/9) \n",
    "\n",
    "temperatures.loc[temperatures['Temperature'] > 40, 'Temperature'] = temp_cels\n",
    "\n",
    "#Assert conversion is correct \n",
    "assert temperatures['Temperature'].max() < 40\n",
    "```"
   ]
  },
  {
   "cell_type": "markdown",
   "id": "b699534b-c54f-4487-ab87-e6cef90c10a2",
   "metadata": {
    "tags": []
   },
   "source": [
    "**Completeness**\n",
    "```python\n",
    "# Get summary of missingness \n",
    "airquality.isna().sum()\n",
    "```"
   ]
  },
  {
   "cell_type": "markdown",
   "id": "aa48c45c-aca4-42e5-b9cf-e029653c8d2b",
   "metadata": {
    "tags": []
   },
   "source": [
    "**Missingno**\n",
    "```python\n",
    "import missingno as msno \n",
    "import matplotlib.pyplot as plt \n",
    "\n",
    "#Visualize missingness \n",
    "msno.matrix(airquality) \n",
    "plt.show()\n",
    "```"
   ]
  },
  {
   "cell_type": "markdown",
   "id": "4b09e769-4b30-48ab-aee4-4303b757db4b",
   "metadata": {
    "tags": []
   },
   "source": [
    "**Missingno**\n",
    "```python\n",
    "#Isolate missing and complete values aside \n",
    "missing = airquality[airquality['CO2'].isna()] \n",
    "complete = airquality[~airquality['CO2'].isna()]\n",
    "\n",
    "complete.describe()\n",
    "missing.describe()\n",
    "```"
   ]
  },
  {
   "cell_type": "markdown",
   "id": "5acc8604-88a4-4de5-9135-2b48c360e6b7",
   "metadata": {
    "tags": []
   },
   "source": [
    "**Replacing with statistical measures**\n",
    "```python\n",
    "co2_mean = airquality['CO2'].mean() \n",
    "\n",
    "airquality_imputed = airquality.fillna({'CO2': co2_mean}) \n",
    "```"
   ]
  },
  {
   "cell_type": "markdown",
   "id": "cd8375d3-efa7-4191-b331-1aed458e3e8c",
   "metadata": {
    "tags": []
   },
   "source": [
    "### Comparing strings"
   ]
  },
  {
   "cell_type": "markdown",
   "id": "840d006c-afc3-4c95-b93c-e04df55c8f35",
   "metadata": {
    "tags": []
   },
   "source": [
    "**Minimum edit distance algorithms**\n",
    "Algorithm                 Operations\n",
    "\n",
    "Damerau-Levenshtein       insertion, substitution, deletion, transposition\n",
    "\n",
    "Levenshtein               insertion, substitution, deletion\n",
    "\n",
    "Hamming                   substitution only\n",
    "\n",
    "Jaro distance             transposition only\n",
    "\n",
    "Possible packages: nltk , fuzzywuzzy , textdistanc\n",
    "```python\n",
    "# Lets us compare between two strings \n",
    "from fuzzywuzzy import fuzz   \n",
    "\n",
    "# Compare reeding vs reading \n",
    "\n",
    "fuzz.WRatio('Reeding', 'Reading') \n",
    "```"
   ]
  },
  {
   "cell_type": "markdown",
   "id": "3fabc822-3738-4747-8387-b6d6cd4079eb",
   "metadata": {
    "tags": []
   },
   "source": [
    "**Partial strings and different orderings**\n",
    "```python\n",
    "# Partial string comparison \n",
    "\n",
    "fuzz.WRatio('Houston Rockets', 'Rockets') \n",
    "\n",
    "# Partial string comparison with different order \n",
    "\n",
    "fuzz.WRatio('Houston Rockets vs Los Angeles Lakers', 'Lakers vs Rockets')\n",
    "```"
   ]
  },
  {
   "cell_type": "markdown",
   "id": "e3128f3e-a4bb-4702-b2d4-cbf8348aed47",
   "metadata": {
    "tags": []
   },
   "source": [
    "**Comparison with arrays**\n",
    "```python\n",
    "# Import process \n",
    "from fuzzywuzzy import process \n",
    "\n",
    "# Define string and array of possible matches \n",
    "\n",
    "string = \"Houston Rockets vs Los Angeles Lakers\" \n",
    "choices = pd.Series(['Rockets vs Lakers', 'Lakers vs Rockets',                       'Houson vs Los Angeles', 'Heat vs Bulls']) \n",
    "\n",
    "process.extract(string, choices, limit = 2)\n",
    "# Output:\n",
    "# [('Rockets vs Lakers', 86, 0), ('Lakers vs Rockets', 86, 1)]\n",
    "```"
   ]
  },
  {
   "cell_type": "markdown",
   "id": "893e01fe-5fbc-4383-a3e6-f2e1e3981f84",
   "metadata": {
    "tags": []
   },
   "source": [
    "**Collapsing all of the state : Categories with string similarity**\n",
    "```python\n",
    "# For each correct category \n",
    "for state in categories['state']:    \n",
    "    # Find potential matches in states with typoes     \n",
    "    matches = process.extract(state, survey['state'], limit = survey.shape[0])      \n",
    "    # For each potential match match     \n",
    "    for potential_match in matches:        \n",
    "        # If high similarity score         \n",
    "        if potential_match[1] >= 80:            \n",
    "            # Replace typo with correct category   \n",
    "            survey.loc[survey['state'] == potential_match[0], 'state'] = state \n",
    "\n",
    "```"
   ]
  },
  {
   "cell_type": "markdown",
   "id": "ffd68b36-0cb6-4b7f-bd13-4be6f925de15",
   "metadata": {
    "tags": []
   },
   "source": [
    "**Generating pairs**\n",
    "```python\n",
    "# Import recordlinkage \n",
    "import recordlinkage   \n",
    "\n",
    "# Create indexing object \n",
    "indexer = recordlinkage.Index()  \n",
    "\n",
    "# Generate pairs blocked on state \n",
    "indexer.block('state') \n",
    "pairs = indexer.index(census_A, census_B)\n",
    "\n",
    "```"
   ]
  },
  {
   "cell_type": "markdown",
   "id": "9d1c6edb-0865-4397-bb4f-673c959961ce",
   "metadata": {
    "tags": []
   },
   "source": [
    "**Comparing the DataFrames**\n",
    "```python\n",
    "# Generate the pairs \n",
    "pairs = indexer.index(census_A, census_B)  \n",
    "\n",
    "# Create a Compare object \n",
    "compare_cl = recordlinkage.Compare()  \n",
    " \n",
    "# Find exact matches for pairs of date_of_birth and state \n",
    "compare_cl.exact('date_of_birth', 'date_of_birth', label='date_of_birth') \n",
    "compare_cl.exact('state', 'state', label='state')   \n",
    "\n",
    "# Find similar matches for pairs of surname and address_1 using string similarity \n",
    "compare_cl.string('surname', 'surname', threshold=0.85, label='surname') \n",
    "compare_cl.string('address_1', 'address_1', threshold=0.85, label='address_1')   \n",
    " \n",
    "# Find matches \n",
    "potential_matches = compare_cl.compute(pairs, census_A, census_B)\n",
    "\n",
    "```"
   ]
  },
  {
   "cell_type": "markdown",
   "id": "441431e5-5b94-4b06-8e13-43c8935259d9",
   "metadata": {
    "tags": []
   },
   "source": [
    "**Finding the only pairs we want**\n",
    "```python\n",
    "matches = potential_matches[potential_matches.sum(axis = 1) >= 2]\n",
    "```"
   ]
  },
  {
   "cell_type": "markdown",
   "id": "77ca3837-fafd-45cf-af46-feb44d66397e",
   "metadata": {
    "tags": []
   },
   "source": [
    "### Linking DataFrames"
   ]
  },
  {
   "cell_type": "markdown",
   "id": "25b9dacb-3173-4302-b96f-d44064c530d0",
   "metadata": {
    "tags": []
   },
   "source": [
    "**Get the indices**\n",
    "```python\n",
    "# Get indices from census_B only \n",
    "duplicate_rows = matches.index.get_level_values(1) \n",
    "print(census_B_index)\n",
    "\n",
    "# Finding duplicates in census_B \n",
    "census_B_duplicates = census_B[census_B.index.isin(duplicate_rows)]  \n",
    "\n",
    "# Finding new rows in census_B \n",
    "census_B_new = census_B[~census_B.index.isin(duplicate_rows)]\n",
    "\n",
    "# Link the DataFrames! \n",
    "full_census = census_A.append(census_B_new) \n",
    "```"
   ]
  }
 ],
 "metadata": {
  "kernelspec": {
   "display_name": "Python 3 (ipykernel)",
   "language": "python",
   "name": "python3"
  },
  "language_info": {
   "codemirror_mode": {
    "name": "ipython",
    "version": 3
   },
   "file_extension": ".py",
   "mimetype": "text/x-python",
   "name": "python",
   "nbconvert_exporter": "python",
   "pygments_lexer": "ipython3",
   "version": "3.8.13"
  },
  "toc": {
   "base_numbering": 1,
   "nav_menu": {},
   "number_sections": true,
   "sideBar": true,
   "skip_h1_title": false,
   "title_cell": "Table of Contents",
   "title_sidebar": "Contents",
   "toc_cell": false,
   "toc_position": {},
   "toc_section_display": true,
   "toc_window_display": false
  },
  "varInspector": {
   "cols": {
    "lenName": 16,
    "lenType": 16,
    "lenVar": 40
   },
   "kernels_config": {
    "python": {
     "delete_cmd_postfix": "",
     "delete_cmd_prefix": "del ",
     "library": "var_list.py",
     "varRefreshCmd": "print(var_dic_list())"
    },
    "r": {
     "delete_cmd_postfix": ") ",
     "delete_cmd_prefix": "rm(",
     "library": "var_list.r",
     "varRefreshCmd": "cat(var_dic_list()) "
    }
   },
   "types_to_exclude": [
    "module",
    "function",
    "builtin_function_or_method",
    "instance",
    "_Feature"
   ],
   "window_display": false
  }
 },
 "nbformat": 4,
 "nbformat_minor": 5
}