{
 "cells": [
  {
   "cell_type": "markdown",
   "id": "8002c587-c8f5-48ab-bf92-c13ee567eb56",
   "metadata": {
    "slideshow": {
     "slide_type": "slide"
    },
    "tags": []
   },
   "source": [
    "## Joining Data with Pandas"
   ]
  },
  {
   "cell_type": "markdown",
   "id": "1b01cae5-3c8c-41b9-8d9d-c63b7db6f9a8",
   "metadata": {
    "slideshow": {
     "slide_type": "subslide"
    },
    "tags": []
   },
   "source": [
    "### Inner Join"
   ]
  },
  {
   "cell_type": "markdown",
   "id": "d84cdb46-4645-4e58-9d86-0fd059688477",
   "metadata": {
    "slideshow": {
     "slide_type": "fragment"
    }
   },
   "source": [
    "```python\n",
    "df_merged = df.merge(df2, on='col_name') # inner join\n",
    "```"
   ]
  },
  {
   "cell_type": "markdown",
   "id": "aa0af7f0-d402-45ba-ac9e-22eeb2281dc6",
   "metadata": {},
   "source": [
    "```python\n",
    "df_merged = df.merge(df2, on='col_name', suffixes=('_1','_2')) # suffixes\n",
    "```"
   ]
  },
  {
   "cell_type": "markdown",
   "id": "0e35c62f-d463-432e-9db2-118278181c9c",
   "metadata": {},
   "source": [
    "```python\n",
    "df_merged = df.merge(df2, on=['col_name_1','col_name_2'], suffixes=('_1','_2')) # multiple columns check\n",
    "```"
   ]
  },
  {
   "cell_type": "markdown",
   "id": "4bea2fb0-fb86-4c0a-9792-211eabb903f7",
   "metadata": {},
   "source": [
    "```python\n",
    "df_merged = df.merge(df2, on=['col_name_1','col_name_2']) \\\n",
    "    .merge(df3, on='col_name_3',suffixes=('_1','_2')) # merging multiple tables\n",
    "```"
   ]
  },
  {
   "cell_type": "markdown",
   "id": "bbce65b4-e3dd-4447-971a-daa9264cb8c9",
   "metadata": {},
   "source": [
    "```python\n",
    "import matplotlib.pyplot as plt\n",
    "df_merged.groupby('col_name_3').agg('sum').plot(kind='bar', y='col_name')\n",
    "plt.show() # plotting result\n",
    "```"
   ]
  },
  {
   "cell_type": "markdown",
   "id": "49e2d373-3716-49f7-9e6a-8a2ff7ed1985",
   "metadata": {},
   "source": [
    "```python\n",
    "df1.merge(df2, on='col') \\\n",
    "    .merge(df3, on='col') \\\n",
    "    .merge(df4, on='col') # merging four tables\n",
    "```\n"
   ]
  },
  {
   "cell_type": "markdown",
   "id": "b02d0ebe-01f0-40a0-8ecf-784f0528c789",
   "metadata": {
    "slideshow": {
     "slide_type": "subslide"
    }
   },
   "source": [
    "### Left Join"
   ]
  },
  {
   "cell_type": "markdown",
   "id": "1b76a74c-daef-4ac0-b33f-1073b4f2d358",
   "metadata": {
    "slideshow": {
     "slide_type": "fragment"
    }
   },
   "source": [
    "```python\n",
    "df_merged = df.merge(df2, on='col_name', how='left') # left join\n",
    "```"
   ]
  },
  {
   "cell_type": "markdown",
   "id": "4b7d828b-b878-448f-bb81-4a1ef0ef6583",
   "metadata": {
    "slideshow": {
     "slide_type": "subslide"
    }
   },
   "source": [
    "### Right Join"
   ]
  },
  {
   "cell_type": "markdown",
   "id": "55fb0631-7d0a-4909-a192-ca6606a9e6b8",
   "metadata": {
    "slideshow": {
     "slide_type": "fragment"
    }
   },
   "source": [
    "```python\n",
    "df_merged = df.merge(df2, how='right', left_on='col_name_left', right_on='col_name_right') # right join with different column names\n",
    "```"
   ]
  },
  {
   "cell_type": "markdown",
   "id": "e9daa6e7-80a5-42ee-8eb3-4ac9806ad6c0",
   "metadata": {
    "slideshow": {
     "slide_type": "subslide"
    }
   },
   "source": [
    "### Outer Join"
   ]
  },
  {
   "cell_type": "markdown",
   "id": "84e5a528-cf58-467f-a49c-d513d561f390",
   "metadata": {
    "slideshow": {
     "slide_type": "fragment"
    }
   },
   "source": [
    "```python\n",
    "df_merged = df.merge(df2, on='col_name', how='outer', suffixes=('_1','_2')) # outer join\n",
    "```"
   ]
  },
  {
   "cell_type": "markdown",
   "id": "647e5e60-388c-49ab-8b70-f65770c9fdbc",
   "metadata": {
    "slideshow": {
     "slide_type": "subslide"
    }
   },
   "source": [
    "### Merging to itself"
   ]
  },
  {
   "cell_type": "markdown",
   "id": "3a28889a-466e-43ca-b93c-d8e948c1eb29",
   "metadata": {
    "slideshow": {
     "slide_type": "fragment"
    }
   },
   "source": [
    "```python\n",
    "df_sequels = df.merge(df, left_on='sequel', right_on='id', suffixes=('_org','_seq')) # merging a table to itself with different relating rows\n",
    "```"
   ]
  },
  {
   "cell_type": "markdown",
   "id": "5f52e1a5-f262-495e-a1fc-0090664173f6",
   "metadata": {},
   "source": [
    "```python\n",
    "df_sequels = df.merge(df, left_on='sequel', right_on='id', how='left', suffixes=('_org','_seq')) # merging a table to itself with left join\n",
    "```"
   ]
  },
  {
   "cell_type": "markdown",
   "id": "8764abe6-7ae0-47fa-862f-054f5441c5ec",
   "metadata": {
    "slideshow": {
     "slide_type": "subslide"
    }
   },
   "source": [
    "### Merging on indexes"
   ]
  },
  {
   "cell_type": "markdown",
   "id": "42a27f3b-9777-407d-9c8e-802cab1d0e0c",
   "metadata": {
    "slideshow": {
     "slide_type": "fragment"
    }
   },
   "source": [
    "```python\n",
    "df1 = pd.read_csv('df1.csv', index_col=['id'])\n",
    "df2 = pd.read_csv('df2.csv', index_col=['id'])\n",
    "df_merged = df1.merge(df2, on='id', how='left') # merging on index\n",
    "```"
   ]
  },
  {
   "cell_type": "markdown",
   "id": "5fc661db-268e-440b-89cf-2fe852906b63",
   "metadata": {},
   "source": [
    "```python\n",
    "df1 = pd.read_csv('df1.csv', index_col=['id1','id2'])\n",
    "df2 = pd.read_csv('df2.csv', index_col=['id1','id2'])\n",
    "df_merged = df1.merge(df2, on=['id1','id2']) # multiIndex merge\n",
    "```"
   ]
  },
  {
   "cell_type": "markdown",
   "id": "2fdbed4a-91b6-4048-9c88-a764a29d53aa",
   "metadata": {},
   "source": [
    "```python\n",
    "df1 = pd.read_csv('df1.csv', index_col=['id1'])\n",
    "df2 = pd.read_csv('df2.csv', index_col=['id2'])\n",
    "df_merged = df1.merge(df2, left_on='id1', left_index=True, right_on='id2', right_index=True) # index merge with left_on, right_on\n",
    "```"
   ]
  },
  {
   "cell_type": "markdown",
   "id": "57510fac-0a4e-4563-ae80-2d0bd68500e2",
   "metadata": {
    "slideshow": {
     "slide_type": "subslide"
    }
   },
   "source": [
    "### Filtering Joins"
   ]
  },
  {
   "cell_type": "markdown",
   "id": "ca8bdadb-d90a-419f-a04a-045bf3a0a846",
   "metadata": {
    "slideshow": {
     "slide_type": "fragment"
    }
   },
   "source": [
    "```python\n",
    "df_merged = df.merge(df2, on='col_name')\n",
    "df_semi = df[df['col_name'].isin(df_merged['col_name'])] # semi join\n",
    "```\n",
    "Semi joins\n",
    "* Returns the intersection, similar to an inner join\n",
    "* Returns only columns from the left table and not the right\n",
    "* No duplicates"
   ]
  },
  {
   "cell_type": "markdown",
   "id": "51fabf7a-d959-455f-a83f-ebb6d7ce5cc8",
   "metadata": {},
   "source": [
    "```python\n",
    "df_merged = df.merge(df2, on='col_name', how='left', indicator=True)\n",
    "left_only_list = df_merged.loc[df_merged['_merge'] == 'left_only', 'col_name']\n",
    "df_anti = df[df['col_name'].isin(left_only_list)] # anti join\n",
    "```\n",
    "Anti join\n",
    "* Returns the left table, excluding the intersection\n",
    "* Returns only columns from the left table and not the right"
   ]
  },
  {
   "cell_type": "markdown",
   "id": "c775a9f7-b8dd-4cca-9fc6-204cc0007b98",
   "metadata": {
    "slideshow": {
     "slide_type": "subslide"
    }
   },
   "source": [
    "### Concatenate DataFrames vertically"
   ]
  },
  {
   "cell_type": "markdown",
   "id": "8924619d-d725-4a8b-a66d-429490598d3d",
   "metadata": {
    "slideshow": {
     "slide_type": "fragment"
    }
   },
   "source": [
    "```python\n",
    "df_concat = pd.concat([df1, df2, df3]) # basic concatenation\n",
    "```"
   ]
  },
  {
   "cell_type": "markdown",
   "id": "745ce02d-bb69-4365-9058-fa5234c27264",
   "metadata": {},
   "source": [
    "```python\n",
    "df_concat = pd.concat([df1, df2, df3],ignore_index=True) # ignoring index\n",
    "```"
   ]
  },
  {
   "cell_type": "markdown",
   "id": "6fd81aa2-2bbb-4958-a2fc-f1e81df1fe36",
   "metadata": {},
   "source": [
    "```python\n",
    "df_concat = pd.concat([df1, df2, df3],ignore_index=False, keys=['_1','_2','_3']) # setting labels as outer index\n",
    "```"
   ]
  },
  {
   "cell_type": "markdown",
   "id": "fc8d9dce-851a-4ac5-acb3-471278c72cf1",
   "metadata": {},
   "source": [
    "```python\n",
    "df_concat = pd.concat([df1, df2, df3], join = 'inner') # concatenate tables with different column names\n",
    "```"
   ]
  },
  {
   "cell_type": "markdown",
   "id": "f5714a66-0d6c-4634-bbd7-abb4e2d70e9b",
   "metadata": {
    "slideshow": {
     "slide_type": "subslide"
    }
   },
   "source": [
    "### Using append method"
   ]
  },
  {
   "cell_type": "markdown",
   "id": "b7ff1c98-e0fb-459e-ae96-e1ef0db15068",
   "metadata": {
    "slideshow": {
     "slide_type": "fragment"
    }
   },
   "source": [
    "```python\n",
    ".append()\n",
    "```\n",
    "* Simplified version of the .concat() method\n",
    "* Supports: ignore_index , and sort\n",
    "* Does Not Support: keys and join\n",
    "    * Always join = outer"
   ]
  },
  {
   "cell_type": "markdown",
   "id": "5ea67f04-6743-449f-b5c5-bf5f4040b21f",
   "metadata": {},
   "source": [
    "```python\n",
    "df_appended = df1.append([df2,df3], ignore_index=True, sort=True)\n",
    "```"
   ]
  },
  {
   "cell_type": "markdown",
   "id": "33b3adf5-e555-437e-aea2-0846047be038",
   "metadata": {
    "slideshow": {
     "slide_type": "subslide"
    }
   },
   "source": [
    "### Validating merges"
   ]
  },
  {
   "cell_type": "markdown",
   "id": "f182ef98-0c32-4a0f-9b9a-f492af070e27",
   "metadata": {
    "slideshow": {
     "slide_type": "fragment"
    }
   },
   "source": [
    "```python\n",
    ".merge(validate=None)\n",
    "```\n",
    "Checks if merge is of specified type\n",
    "* 'one_to_one'\n",
    "* 'one_to_many'\n",
    "* 'many_to_one'\n",
    "* 'many_to_many'"
   ]
  },
  {
   "cell_type": "markdown",
   "id": "f5245d3b-bc7a-4f45-8c8e-78b9c785acc8",
   "metadata": {},
   "source": [
    "```python\n",
    "df.merge(df2, on='col_name', validate='one_to_one')\n",
    "```\n",
    "```\n",
    "Traceback (most recent call last):\n",
    "MergeError: Merge keys are not unique in right dataset; not a one-to-one merge\n",
    "```\n",
    "```python\n",
    "df.merge(df2, on='col_name', validate='one_to_many') # without error\n",
    "```"
   ]
  },
  {
   "cell_type": "markdown",
   "id": "965fcbed-26fc-4865-aab6-6f0dfa44c7ff",
   "metadata": {
    "slideshow": {
     "slide_type": "subslide"
    }
   },
   "source": [
    "### Verifying concatenations"
   ]
  },
  {
   "cell_type": "markdown",
   "id": "36f598be-3bc5-43e5-9121-adda26fb3553",
   "metadata": {
    "slideshow": {
     "slide_type": "fragment"
    }
   },
   "source": [
    "```python\n",
    ".concat(verify_integrity=False)\n",
    "```\n",
    "* Check whether the new concatenated index contains duplicates\n",
    "* Default value is False"
   ]
  },
  {
   "cell_type": "markdown",
   "id": "6ad6dc1a-45f4-4cf8-b3c5-ca9973608b2c",
   "metadata": {},
   "source": [
    "```python\n",
    "pd.concat([df1, df2], verify_integrity=True)\n",
    "```\n",
    "```\n",
    "Traceback (most recent call last):\n",
    "ValueError: Indexes have overlapping\n",
    "```\n",
    "```python\n",
    "pd.concat([df1, df2], verify_integrity=False) # without error\n",
    "```"
   ]
  },
  {
   "cell_type": "markdown",
   "id": "f2eb4325-436d-4c14-9e9a-084290b89d27",
   "metadata": {
    "slideshow": {
     "slide_type": "subslide"
    }
   },
   "source": [
    "### Using merge_ordered()"
   ]
  },
  {
   "cell_type": "markdown",
   "id": "58fe79c9-31df-40aa-b083-8e9f340a40d9",
   "metadata": {
    "slideshow": {
     "slide_type": "fragment"
    }
   },
   "source": [
    "When to use merge_ordered()?\n",
    "* Ordered data / time series\n",
    "* Filling in missing values\n",
    "\n",
    "Method comparison\n",
    "| .merge()  | merge_ordered()  |\n",
    "|-------|------------|\n",
    "| Type of join <br>  * default inner | Type of join <br> * default outer |\n",
    "|Calling the method <br> * df1.merge(df2) | Calling the method <br> * pd.merge_ordered(df1, df2)  |"
   ]
  },
  {
   "cell_type": "markdown",
   "id": "4b886051-a69b-437a-9ab8-74f107fa6d16",
   "metadata": {},
   "source": [
    "```python\n",
    "import pandas as pd\n",
    "pd.merge_ordered(df1, df2, on='col_name', suffixes=('_1','_2'))\n",
    "```"
   ]
  },
  {
   "cell_type": "markdown",
   "id": "aec1cae9-d7de-4164-a14c-a28249dad6db",
   "metadata": {},
   "source": [
    "```python\n",
    "import pandas as pd\n",
    "pd.merge_ordered(df1, df2, on='col_name', suffixes=('_1','_2'), fill_method='ffill') # forward fill\n",
    "```"
   ]
  },
  {
   "cell_type": "markdown",
   "id": "a1c0b59d-c0dd-4cb5-abea-50c2cd659b1c",
   "metadata": {
    "slideshow": {
     "slide_type": "subslide"
    }
   },
   "source": [
    "### Using merge_asof()"
   ]
  },
  {
   "cell_type": "markdown",
   "id": "faa8732e-1755-4c4d-9425-5e1f81a1f213",
   "metadata": {
    "slideshow": {
     "slide_type": "fragment"
    }
   },
   "source": [
    "Similar to a merge_ordered() left  join\n",
    "* Similar features as merge_ordered()\n",
    "\n",
    "\n",
    "Match on the nearest key column and not exact matches.\n",
    "* Merged \"on\" columns must be sorted."
   ]
  },
  {
   "cell_type": "markdown",
   "id": "f61aca02-ee17-47eb-a4ea-bcc85b0f569c",
   "metadata": {},
   "source": [
    "```python\n",
    "import pandas as pd\n",
    "pd.merge_asof(df1, df2, on='col_name', suffixes=('_1','_2'))\n",
    "```"
   ]
  },
  {
   "cell_type": "markdown",
   "id": "a071ffad-7be8-4176-b456-541a9bc2a5a1",
   "metadata": {},
   "source": [
    "```python\n",
    "import pandas as pd\n",
    "pd.merge_asof(df1, df2, on='col_name', suffixes=('_1','_2'), direction= 'forward') # with direction\n",
    "```"
   ]
  },
  {
   "cell_type": "markdown",
   "id": "86e78fbb-ad04-4cb1-9fc8-334a4467ef15",
   "metadata": {
    "slideshow": {
     "slide_type": "subslide"
    }
   },
   "source": [
    "### Selecting data with .query()"
   ]
  },
  {
   "cell_type": "markdown",
   "id": "35be9388-bd7f-4f6b-b0e1-8a7bd6057ee9",
   "metadata": {
    "slideshow": {
     "slide_type": "fragment"
    }
   },
   "source": [
    "```python\n",
    "df.query('col_name >= num1') # querying\n",
    "```"
   ]
  },
  {
   "cell_type": "markdown",
   "id": "a0bc957b-a619-4892-8d1e-05a5b4d348a0",
   "metadata": {},
   "source": [
    "```python\n",
    "df.query('col_name_1 > num1 and col_name_2 < num2') #querying multiple conditions\n",
    "```"
   ]
  },
  {
   "cell_type": "markdown",
   "id": "625ea26c-abee-45e2-bae8-e28b643dff9e",
   "metadata": {},
   "source": [
    "```python\n",
    "df.query('col_name_1 > num1 or col_name_2 < num2') #querying multiple conditions\n",
    "```"
   ]
  },
  {
   "cell_type": "markdown",
   "id": "455dbd7b-6388-4d97-b321-3275d17d93a1",
   "metadata": {},
   "source": [
    "```python\n",
    "df.query('col_name_1 == \"text_string_1\" or (col_name_1 == \"text_string_2\" and col_name_2 < num)') #querying to select text\n",
    "```"
   ]
  },
  {
   "cell_type": "markdown",
   "id": "e361453e-2c87-42dc-afdf-db0a1314d3a5",
   "metadata": {
    "slideshow": {
     "slide_type": "subslide"
    }
   },
   "source": [
    "### Reshaping data with .melt()"
   ]
  },
  {
   "cell_type": "markdown",
   "id": "0ad5e06f-33fe-4055-94e0-58ea91b60377",
   "metadata": {
    "slideshow": {
     "slide_type": "fragment"
    }
   },
   "source": [
    "![Wide versus long data](https://img001.prntscr.com/file/img001/vIxFAwa-S3yXky968DWtsg.jpg)\n",
    "The melt method will allow us to unpivot our dataset"
   ]
  },
  {
   "cell_type": "markdown",
   "id": "90f5828c-9a77-4b06-87bc-37efabb4f9dc",
   "metadata": {},
   "source": [
    "```python\n",
    "df_long = df.melt(id_vars=['col_name_1','col_name_2']) # id columns of rows\n",
    "```"
   ]
  },
  {
   "cell_type": "markdown",
   "id": "8254e4e8-8c4e-46be-afad-e24b81b2a2f3",
   "metadata": {
    "slideshow": {
     "slide_type": "subslide"
    }
   },
   "source": [
    "```python\n",
    "df_long = df.melt(id_vars=['col_name_1','col_name_2'],\n",
    "                 value_vars=['value_1','value_2']) # melting only selected values \n",
    "```"
   ]
  },
  {
   "cell_type": "markdown",
   "id": "d59692cb-6474-4c80-ac91-37a57ab70492",
   "metadata": {
    "slideshow": {
     "slide_type": "fragment"
    }
   },
   "source": [
    "```python\n",
    "df_long = df.melt(id_vars=['col_name_1','col_name_2'],\n",
    "                 value_vars=['value_1','value_2'],\n",
    "                 var_name=['string_var'], value_name='string_val') # melting only selected values \n",
    "```"
   ]
  }
 ],
 "metadata": {
  "kernelspec": {
   "display_name": "Python 3 (ipykernel)",
   "language": "python",
   "name": "python3"
  },
  "language_info": {
   "codemirror_mode": {
    "name": "ipython",
    "version": 3
   },
   "file_extension": ".py",
   "mimetype": "text/x-python",
   "name": "python",
   "nbconvert_exporter": "python",
   "pygments_lexer": "ipython3",
   "version": "3.8.13"
  },
  "toc": {
   "base_numbering": 1,
   "nav_menu": {},
   "number_sections": true,
   "sideBar": true,
   "skip_h1_title": false,
   "title_cell": "Table of Contents",
   "title_sidebar": "Contents",
   "toc_cell": false,
   "toc_position": {},
   "toc_section_display": true,
   "toc_window_display": false
  },
  "varInspector": {
   "cols": {
    "lenName": 16,
    "lenType": 16,
    "lenVar": 40
   },
   "kernels_config": {
    "python": {
     "delete_cmd_postfix": "",
     "delete_cmd_prefix": "del ",
     "library": "var_list.py",
     "varRefreshCmd": "print(var_dic_list())"
    },
    "r": {
     "delete_cmd_postfix": ") ",
     "delete_cmd_prefix": "rm(",
     "library": "var_list.r",
     "varRefreshCmd": "cat(var_dic_list()) "
    }
   },
   "types_to_exclude": [
    "module",
    "function",
    "builtin_function_or_method",
    "instance",
    "_Feature"
   ],
   "window_display": false
  }
 },
 "nbformat": 4,
 "nbformat_minor": 5
}