{
 "cells": [
  {
   "cell_type": "markdown",
   "id": "e092e4cc-f6df-442c-aad3-412647600d5d",
   "metadata": {
    "slideshow": {
     "slide_type": "slide"
    },
    "tags": []
   },
   "source": [
    "## Introduction to Data Visualization with Seaborn"
   ]
  },
  {
   "cell_type": "markdown",
   "id": "43c9a354-b805-4a32-b2b4-c779c78b6277",
   "metadata": {},
   "source": [
    "### Introduction to Seaborn"
   ]
  },
  {
   "cell_type": "markdown",
   "id": "0f57f846-88df-4f32-9d00-3a7cbbcfa8e7",
   "metadata": {},
   "source": [
    "```python\n",
    "import seaborn as sns\n",
    "import matplotlib.pyplot as plt\n",
    "```\n",
    "Samuel Norman Seaborn\n",
    "* \"The West Wing\" television show"
   ]
  },
  {
   "cell_type": "markdown",
   "id": "4f380ed2-8e72-4bdc-884e-94584028f5aa",
   "metadata": {},
   "source": [
    "```python\n",
    "import seaborn as sns\n",
    "import matplotlib.pyplot as plt\n",
    "sns.scatterplot(x=df['col_x'], y=df['col_y']) # scatter plot\n",
    "plt.show()\n",
    "```"
   ]
  },
  {
   "cell_type": "markdown",
   "id": "4b52ea29-8241-46db-b1c2-132690569ea6",
   "metadata": {},
   "source": [
    "```python\n",
    "import seaborn as sns\n",
    "import matplotlib.pyplot as plt\n",
    "sns.countplot(x=df['col_x']) # count plot\n",
    "plt.show()\n",
    "```"
   ]
  },
  {
   "cell_type": "markdown",
   "id": "00568bc0-5d5f-42d0-ae03-53290220fc5c",
   "metadata": {},
   "source": [
    "### Using pandas with Seaborn"
   ]
  },
  {
   "cell_type": "markdown",
   "id": "bfbfa686-85d5-4cd1-98ce-b64ae72b09e8",
   "metadata": {},
   "source": [
    "```python\n",
    "import pandas as pd\n",
    "import matplotlib.pyplot as plt\n",
    "import seaborn as sns\n",
    "sns.countplot(x=\"col_x\", data=df) # using dataframes with countplot\n",
    "plt.show()\n",
    "```"
   ]
  },
  {
   "cell_type": "markdown",
   "id": "6c87e676-f1e2-437b-98ab-1fb46781cba2",
   "metadata": {},
   "source": [
    "```python\n",
    "import matplotlib.pyplot as plt\n",
    "import seaborn as sns\n",
    "sns.scatterplot(x=\"col_x\", y=\"col_y\", data=df) # using dataframes with scatter plot\n",
    "plt.show()\n",
    "```"
   ]
  },
  {
   "cell_type": "markdown",
   "id": "50f96f49-28f1-4c83-8ea0-757398f58678",
   "metadata": {},
   "source": [
    "### Adding a third variable with hue"
   ]
  },
  {
   "cell_type": "markdown",
   "id": "6339969f-3bfe-4069-a039-025de9de446e",
   "metadata": {},
   "source": [
    "```python\n",
    "import matplotlib.pyplot as plt\n",
    "import seaborn as sns\n",
    "sns.scatterplot(x=\"col_x\", y=\"col_y\", data=df, \n",
    "                hue='col_z') # scatter plot with hue\n",
    "plt.show()\n",
    "```"
   ]
  },
  {
   "cell_type": "markdown",
   "id": "9010d58d-e73d-47db-ad6f-446fd0bd0fe5",
   "metadata": {},
   "source": [
    "```python\n",
    "import matplotlib.pyplot as plt\n",
    "import seaborn as sns\n",
    "sns.scatterplot(x=\"col_x\", y=\"col_y\", data=df, \n",
    "                hue='col_z', \n",
    "                hue_order=['var_1', 'var_2']) # setting hue order\n",
    "plt.show()\n",
    "```"
   ]
  },
  {
   "cell_type": "markdown",
   "id": "5e5dc0cf-47d7-4d52-9010-153a6f4310cb",
   "metadata": {},
   "source": [
    "```python\n",
    "import matplotlib.pyplot as plt\n",
    "import seaborn as sns\n",
    "\n",
    "\n",
    "hue_colors = {\"var_1\": \"#808080\",\n",
    "              \"var_2\": \"#00FF00\"}\n",
    "\n",
    "sns.scatterplot(x=\"col_x\", y=\"col_y\", data=df, \n",
    "                hue='col_z', \n",
    "                hue_order=['var_1', 'var_2'], \n",
    "                palette=hue_colors) # using html hex color codes with hue\n",
    "plt.show()\n",
    "```"
   ]
  },
  {
   "cell_type": "markdown",
   "id": "772045f2-b6d2-41d0-8cb5-60f6de778e96",
   "metadata": {},
   "source": [
    "```python\n",
    "import matplotlib.pyplot as plt\n",
    "import seaborn as sns\n",
    "sns.countplot(x=\"col_x\",\n",
    "              data=df,\n",
    "              hue=\"col_y\") # using hue with count plots\n",
    "plt.show()\n",
    "```"
   ]
  },
  {
   "cell_type": "markdown",
   "id": "4342914f-12bb-4dfa-b124-f7a26dad63b2",
   "metadata": {},
   "source": [
    "### Introduction to relational plots and subplots"
   ]
  },
  {
   "cell_type": "markdown",
   "id": "ad3956f6-df9d-4fee-ba34-2b6b91e49db8",
   "metadata": {},
   "source": [
    "**Questions about quantitative variables :**\n",
    "<br>Relational plots\n",
    "* Height vs. weight\n",
    "* Number of school absences vs.  nal grade\n",
    "* GDP vs. percent literate"
   ]
  },
  {
   "cell_type": "markdown",
   "id": "afcc45b6-3d3e-472c-9c60-958e6c0965d5",
   "metadata": {},
   "source": [
    "```python\n",
    "import seaborn as sns\n",
    "import matplotlib.pyplot as plt\n",
    "sns.relplot(x=\"col_x\", # using relplot\n",
    "            y=\"col_y\",\n",
    "            data=df,\n",
    "            kind=\"scatter\")\n",
    "plt.show()\n",
    "```"
   ]
  },
  {
   "cell_type": "markdown",
   "id": "2b9550df-2aea-4e34-8434-d9b8a3b7c5d8",
   "metadata": {},
   "source": [
    "```python\n",
    "import seaborn as sns\n",
    "import matplotlib.pyplot as plt\n",
    "sns.relplot(x=\"col_x\",\n",
    "            y=\"col_y\",\n",
    "            data=df,\n",
    "            kind=\"scatter\",\n",
    "            col='col_z') # subplots in columns\n",
    "plt.show()\n",
    "```"
   ]
  },
  {
   "cell_type": "markdown",
   "id": "0f5e58b1-0f71-46dc-97b3-31bd63ede3f2",
   "metadata": {},
   "source": [
    "```python\n",
    "import seaborn as sns\n",
    "import matplotlib.pyplot as plt\n",
    "sns.relplot(x=\"col_x\",\n",
    "            y=\"col_y\",\n",
    "            data=df,\n",
    "            kind=\"scatter\",\n",
    "            row='col_z') # subplots in rows\n",
    "plt.show()\n",
    "```"
   ]
  },
  {
   "cell_type": "markdown",
   "id": "0f782b3f-29fb-4156-87cb-b831f1be8a50",
   "metadata": {},
   "source": [
    "```python\n",
    "import seaborn as sns\n",
    "import matplotlib.pyplot as plt\n",
    "sns.relplot(x=\"col_x\",\n",
    "            y=\"col_y\",\n",
    "            data=df,\n",
    "            kind=\"scatter\",\n",
    "            col='col_z', \n",
    "            row='col_w') # subplots in rows and columns\n",
    "plt.show()\n",
    "```"
   ]
  },
  {
   "cell_type": "markdown",
   "id": "61a4eb8b-fae7-4c37-882e-a4a75f39f54d",
   "metadata": {},
   "source": [
    "```python\n",
    "import seaborn as sns\n",
    "import matplotlib.pyplot as plt\n",
    "sns.relplot(x=\"col_x\",\n",
    "            y=\"col_y\",\n",
    "            data=df,\n",
    "            kind=\"scatter\",\n",
    "            col='col_z', \n",
    "            col_wrap=2) # wrapping columns\n",
    "plt.show()\n",
    "```"
   ]
  },
  {
   "cell_type": "markdown",
   "id": "c40a9d57-060e-418d-99a6-2e90365b1e28",
   "metadata": {},
   "source": [
    "```python\n",
    "import seaborn as sns\n",
    "import matplotlib.pyplot as plt\n",
    "sns.relplot(x=\"col_x\",\n",
    "            y=\"col_y\",\n",
    "            data=df,\n",
    "            kind=\"scatter\",\n",
    "            col='col_z', \n",
    "            col_wrap=2, \n",
    "            col_order=['var_1',\n",
    "                       'var_2',\n",
    "                       'var_3',\n",
    "                       'var_4']) # ordering columns\n",
    "plt.show()\n",
    "```"
   ]
  },
  {
   "cell_type": "markdown",
   "id": "4babd243-0dcc-46e0-acca-17213071232d",
   "metadata": {},
   "source": [
    "### Customizing scatter plots"
   ]
  },
  {
   "cell_type": "markdown",
   "id": "a37c9fe0-f101-4d27-909d-b86452ad1aee",
   "metadata": {},
   "source": [
    "```python\n",
    "import seaborn as sns\n",
    "import matplotlib.pyplot as plt \n",
    "sns.relplot(x= \"col_x\", y= \"col_y\", \n",
    "            data=df, \n",
    "            kind= \"scatter\", \n",
    "            size=\"col_z\") # subgroups with point size\n",
    "plt.show()\n",
    "```"
   ]
  },
  {
   "cell_type": "markdown",
   "id": "b815214f-2322-4918-a32c-257b93ac20bd",
   "metadata": {},
   "source": [
    "```python\n",
    "import seaborn as sns\n",
    "import matplotlib.pyplot as plt \n",
    "sns.relplot(x= \"col_x\", y= \"col_y\", \n",
    "            data=df, \n",
    "            kind= \"scatter\", \n",
    "            size=\"col_z\", \n",
    "            hue='col_z') # point size and hue\n",
    "plt.show()\n",
    "```"
   ]
  },
  {
   "cell_type": "markdown",
   "id": "6bf375dc-fde4-45da-a040-47dbc66bd9b2",
   "metadata": {},
   "source": [
    "```python\n",
    "import seaborn as sns\n",
    "import matplotlib.pyplot as plt \n",
    "sns.relplot(x= \"col_x\", y= \"col_y\", \n",
    "            data=df, \n",
    "            kind= \"scatter\",\n",
    "            hue='col_z',\n",
    "            style=\"col_z\") # subgroups with point style\n",
    "plt.show()\n",
    "```"
   ]
  },
  {
   "cell_type": "markdown",
   "id": "6ea00640-c113-4fef-84d9-ccd9dd5710a2",
   "metadata": {},
   "source": [
    "```python\n",
    "import seaborn as sns\n",
    "import matplotlib.pyplot as plt \n",
    "sns.relplot(x= \"col_x\", y= \"col_y\", \n",
    "            data=df, \n",
    "            kind= \"scatter\",\n",
    "            alpha=0.4) # changing point transparency\n",
    "plt.show()\n",
    "```"
   ]
  },
  {
   "cell_type": "markdown",
   "id": "13824d3f-d32c-49e6-a286-d4e34124e591",
   "metadata": {},
   "source": [
    "### Introduction to line plots"
   ]
  },
  {
   "cell_type": "markdown",
   "id": "33ae9cd6-abf2-4a61-a935-113b139b48c5",
   "metadata": {},
   "source": [
    "```python\n",
    "import matplotlib.pyplot as plt\n",
    "import seaborn as sns\n",
    "sns.relplot(x=\"col_x\", y=\"col_y\", \n",
    "            data=df, \n",
    "            kind=\"line\") # line plot\n",
    "plt.show()\n",
    "```"
   ]
  },
  {
   "cell_type": "markdown",
   "id": "c33a2189-465e-42c1-a6b2-6407210b2af8",
   "metadata": {},
   "source": [
    "```python\n",
    "import matplotlib.pyplot as plt\n",
    "import seaborn as sns\n",
    "sns.relplot(x=\"col_x\", y=\"col_y\", \n",
    "            data=df, \n",
    "            kind=\"line\", \n",
    "            style='col_z', \n",
    "            hue='col_z') # subgroups\n",
    "plt.show()\n",
    "```"
   ]
  },
  {
   "cell_type": "markdown",
   "id": "5d53e793-03a4-4296-916b-d8defd9da1b6",
   "metadata": {},
   "source": [
    "```python\n",
    "import matplotlib.pyplot as plt\n",
    "import seaborn as sns\n",
    "sns.relplot(x=\"col_x\", y=\"col_y\", \n",
    "            data=df, \n",
    "            kind=\"line\", \n",
    "            style='col_z', \n",
    "            hue='col_z',\n",
    "            markers=True) # adding markers\n",
    "plt.show()\n",
    "```"
   ]
  },
  {
   "cell_type": "markdown",
   "id": "b1f6707f-b93d-40b5-a41a-1c1f98c79d81",
   "metadata": {},
   "source": [
    "```python\n",
    "import matplotlib.pyplot as plt\n",
    "import seaborn as sns\n",
    "sns.relplot(x=\"col_x\", y=\"col_y\", \n",
    "            data=df, \n",
    "            kind=\"line\", \n",
    "            style='col_z', \n",
    "            hue='col_z',\n",
    "            markers=True,\n",
    "            dashes=False) # turning off line style\n",
    "plt.show()\n",
    "```"
   ]
  },
  {
   "cell_type": "markdown",
   "id": "c098e5da-3a1a-4c30-af4f-e48f63f88764",
   "metadata": {},
   "source": [
    "**Multiple observations per x-value**\n",
    "Shaded region is the confidence interval\n",
    "* Assumes dataset is a random sample\n",
    "* 95% confident that the mean is within this interval\n",
    "* Indicates uncertainty in our estimate"
   ]
  },
  {
   "cell_type": "markdown",
   "id": "dd8d585d-d1ed-4fd7-a37c-97c06dee8799",
   "metadata": {},
   "source": [
    "```python\n",
    "import matplotlib.pyplot as plt\n",
    "import seaborn as sns\n",
    "sns.relplot(x=\"col_x\", y=\"col_y\",\n",
    "            data=df,\n",
    "            kind=\"line\",\n",
    "            ci=\"sd\") # replacing confidence interval with standard deviation\n",
    "plt.show()\n",
    "```"
   ]
  },
  {
   "cell_type": "markdown",
   "id": "f8ab3fcb-e8cb-40bc-a966-c741491dc0d6",
   "metadata": {},
   "source": [
    "```python\n",
    "import matplotlib.pyplot as plt\n",
    "import seaborn as sns\n",
    "sns.relplot(x=\"col_x\", y=\"col_y\",\n",
    "            data=df,\n",
    "            kind=\"line\",\n",
    "            ci=None) # turning off confidence interval\n",
    "plt.show()\n",
    "```"
   ]
  },
  {
   "cell_type": "markdown",
   "id": "fa16ea81-3c26-4038-8988-51e4f7a20bc6",
   "metadata": {},
   "source": [
    "### Categorical plots: Count plots and bar plots"
   ]
  },
  {
   "cell_type": "markdown",
   "id": "a9b781cc-68a8-4d99-9a75-53fb4fd7537e",
   "metadata": {},
   "source": [
    "```python\n",
    "import matplotlib.pyplot as plt\n",
    "import seaborn as sns\n",
    "sns.catplot(x=\"col_x\",\n",
    "            data=df,\n",
    "            kind=\"count\") # countplots with catplot\n",
    "plt.show()\n",
    "```"
   ]
  },
  {
   "cell_type": "markdown",
   "id": "5b7c0f5a-826e-4634-b67a-431786ed441a",
   "metadata": {},
   "source": [
    "```python\n",
    "import matplotlib.pyplot as plt\n",
    "import seaborn as sns\n",
    "category_order = ['var_1',\n",
    "                  'var_2',\n",
    "                  'var_3',\n",
    "                  'var_4',\n",
    "                  'var_5']\n",
    "sns.catplot(x=\"col_x\",\n",
    "            data=df,\n",
    "            kind=\"count\",\n",
    "            order=category_order) # changing the order\n",
    "plt.show()\n",
    "```"
   ]
  },
  {
   "cell_type": "markdown",
   "id": "2d5e08c1-03c2-4cd7-a674-9f4f37bcd5b0",
   "metadata": {},
   "source": [
    "```python\n",
    "import matplotlib.pyplot as plt\n",
    "import seaborn as sns\n",
    "sns.catplot(x=\"col_x\",\n",
    "            y=\"col_y\",\n",
    "            data=df,\n",
    "            kind=\"bar\") # bar plots with catplot\n",
    "plt.show()\n",
    "```"
   ]
  },
  {
   "cell_type": "markdown",
   "id": "f6617f6d-df3f-4d53-bbc0-623e0db7e3c3",
   "metadata": {},
   "source": [
    "```python\n",
    "import matplotlib.pyplot as plt\n",
    "import seaborn as sns\n",
    "sns.catplot(x=\"col_x\",\n",
    "            y=\"col_y\",\n",
    "            data=df,\n",
    "            kind=\"bar\", \n",
    "            ci=None) # turning off confidence interval\n",
    "plt.show()\n",
    "```"
   ]
  },
  {
   "cell_type": "markdown",
   "id": "4db42535-fb74-4bd1-af23-7cd6f1e1bf5d",
   "metadata": {},
   "source": [
    "```python\n",
    "import matplotlib.pyplot as plt\n",
    "import seaborn as sns\n",
    "sns.catplot(x=\"col_y\", # changing the orientation\n",
    "            y=\"col_x\",\n",
    "            data=df,\n",
    "            kind=\"bar\")\n",
    "plt.show()\n",
    "```"
   ]
  },
  {
   "cell_type": "markdown",
   "id": "8491cbe7-710b-45c2-acff-ae60b11bcb31",
   "metadata": {},
   "source": [
    "### Creating a box plot"
   ]
  },
  {
   "cell_type": "markdown",
   "id": "f7e564f3-c177-4023-b373-2c57b06cdf9a",
   "metadata": {},
   "source": [
    "```python\n",
    "import matplotlib.pyplot as plt\n",
    "import seaborn as sns\n",
    "sns.catplot(x=\"col_x\", \n",
    "            y=\"col_y\",\n",
    "            data=df,\n",
    "            kind=\"box\") # box plot with catplot\n",
    "plt.show()\n",
    "```"
   ]
  },
  {
   "cell_type": "markdown",
   "id": "efcf8e4a-99e5-400d-8927-7eaabbca29d9",
   "metadata": {},
   "source": [
    "```python\n",
    "import matplotlib.pyplot as plt\n",
    "import seaborn as sns\n",
    "sns.catplot(x=\"col_x\", \n",
    "            y=\"col_y\",\n",
    "            data=df,\n",
    "            kind=\"box\",\n",
    "            order=['var_1', 'var_2']) # changing order\n",
    "plt.show()\n",
    "```"
   ]
  },
  {
   "cell_type": "markdown",
   "id": "ac6220fc-1bd3-455e-b9f2-2ac8778ee2a1",
   "metadata": {},
   "source": [
    "```python\n",
    "import matplotlib.pyplot as plt\n",
    "import seaborn as sns\n",
    "sns.catplot(x=\"col_x\", \n",
    "            y=\"col_y\",\n",
    "            data=df,\n",
    "            kind=\"box\",\n",
    "            sym='') # omitting the outliers using 'sym'\n",
    "plt.show()\n",
    "```"
   ]
  },
  {
   "cell_type": "markdown",
   "id": "3e67250e-e51a-4c8e-a8f2-f69dd36473ef",
   "metadata": {},
   "source": [
    "```python\n",
    "import matplotlib.pyplot as plt\n",
    "import seaborn as sns\n",
    "sns.catplot(x=\"col_x\", \n",
    "            y=\"col_y\",\n",
    "            data=df,\n",
    "            kind=\"box\",\n",
    "            whis=[0,100]) # changing the whiskers using 'whis'\n",
    "plt.show()\n",
    "```\n",
    "* By default, the whiskers extend to 1.5 * the interquartile range\n",
    "* Make them extend to 2.0 * IQR: ```whis=2.0```\n",
    "* Show the 5th and 95th percentiles: ```whis=[5, 95]```\n",
    "* Show min and max values: ```whis=[0, 100]```"
   ]
  },
  {
   "cell_type": "markdown",
   "id": "24d68e90-ce36-4f27-9a39-e7ca9bc6e78f",
   "metadata": {},
   "source": [
    "### Point plots"
   ]
  },
  {
   "cell_type": "markdown",
   "id": "8a30a5e6-cf6a-4a14-9a81-71f3b0602cd6",
   "metadata": {},
   "source": [
    "**Point plots vs. line plots**\n",
    "Both show:\n",
    "* Mean of quantitative variable\n",
    "* 95% confidence intervals for the mean\n",
    "<br>Differences:\n",
    "* Line plot has **quantitative** variable (usually time) on x-axis\n",
    "* Point plot has **categorical** variable on x-axis"
   ]
  },
  {
   "cell_type": "markdown",
   "id": "c28af48e-1192-4740-9595-afc7ec96ff4c",
   "metadata": {},
   "source": [
    "```python\n",
    "import matplotlib.pyplot as plt\n",
    "import seaborn as sns\n",
    "sns.catplot(x=\"col_x\", \n",
    "            y=\"col_y\",\n",
    "            data=df,\n",
    "            hue='col_z',\n",
    "            kind=\"point\") # creating a point plot\n",
    "plt.show()\n",
    "```"
   ]
  },
  {
   "cell_type": "markdown",
   "id": "574162c6-1ef8-465d-8270-9872d523bc3b",
   "metadata": {},
   "source": [
    "```python\n",
    "import matplotlib.pyplot as plt\n",
    "import seaborn as sns\n",
    "sns.catplot(x=\"col_x\", \n",
    "            y=\"col_y\",\n",
    "            data=df,\n",
    "            hue='col_z',\n",
    "            kind=\"point\",\n",
    "            join=False) # disconnecting the points\n",
    "plt.show()\n",
    "```"
   ]
  },
  {
   "cell_type": "markdown",
   "id": "efbc6c91-266e-4157-ad69-de4454fa1a64",
   "metadata": {},
   "source": [
    "```python\n",
    "import matplotlib.pyplot as plt\n",
    "import seaborn as sns\n",
    "sns.catplot(x=\"col_x\", \n",
    "            y=\"col_y\",\n",
    "            data=df,\n",
    "            hue='col_z',\n",
    "            kind=\"point\",\n",
    "            estimator=median) # displaying the median\n",
    "plt.show()\n",
    "```"
   ]
  },
  {
   "cell_type": "markdown",
   "id": "2aad2252-13ae-48f4-94f1-d135e3e0ad8b",
   "metadata": {},
   "source": [
    "```python\n",
    "import matplotlib.pyplot as plt\n",
    "import seaborn as sns\n",
    "sns.catplot(x=\"col_x\", \n",
    "            y=\"col_y\",\n",
    "            data=df,\n",
    "            hue='col_z',\n",
    "            kind=\"point\",\n",
    "            capsize=0.2) # customizing the confidence intervals\n",
    "plt.show()\n",
    "```"
   ]
  },
  {
   "cell_type": "markdown",
   "id": "00d42cbe-35b5-4657-9cbd-b7cd307b7a6a",
   "metadata": {},
   "source": [
    "```python\n",
    "import matplotlib.pyplot as plt\n",
    "import seaborn as sns\n",
    "sns.catplot(x=\"col_x\", \n",
    "            y=\"col_y\",\n",
    "            data=df,\n",
    "            hue='col_z',\n",
    "            kind=\"point\",\n",
    "            ci=None) #turning off confidence intervals\n",
    "plt.show()\n",
    "```"
   ]
  },
  {
   "cell_type": "markdown",
   "id": "0f592c4e-a27e-455d-a380-72aca46db841",
   "metadata": {},
   "source": [
    "### Changing plot style and color"
   ]
  },
  {
   "cell_type": "markdown",
   "id": "507fac59-0b98-43e2-b3a9-291e6d6391a3",
   "metadata": {},
   "source": [
    "```python\n",
    "sns.set_style() # changing the figure style\n",
    "```\n",
    "```\n",
    "'white', 'dark', 'whitegrid', 'darkgrid', 'ticks' \n",
    "```\n",
    "Default figure style (\"white\")"
   ]
  },
  {
   "cell_type": "markdown",
   "id": "d9a6c28c-9cbf-40dd-9c9f-8793f52898a3",
   "metadata": {},
   "source": [
    "```python\n",
    "sns.set_palette() # changing the palette\n",
    "```\n",
    "\n",
    "Diverging palettes: ```'RdBu', 'PRGn', 'RdBu_r', 'PRGn_r' ```\n",
    "<br>Sequential palettes: ```'Greys', 'Blues', 'PuRd', 'GnBu' ```"
   ]
  },
  {
   "cell_type": "markdown",
   "id": "daccadf9-1d4a-40ac-aadd-cea502d837b4",
   "metadata": {},
   "source": [
    "```python\n",
    "custom_palette = [\"red\", \"green\", \"orange\", \"blue\", \"yellow\", \"purple\"]\n",
    "sns.set_palette(custom_palette) # custom palettes\n",
    "```"
   ]
  },
  {
   "cell_type": "markdown",
   "id": "b293ff4f-15bd-4c8c-aef1-9c85efd8a694",
   "metadata": {},
   "source": [
    "```python\n",
    "custom_palette = ['#FBB4AE', '#B3CDE3', '#CCEBC5',\n",
    "                  '#DECBE4', '#FED9A6', '#FFFFCC',\n",
    "                  '#E5D8BD', '#FDDAEC', '#F2F2F2']\n",
    "sns.set_palette(custom_palette) # custom palettes\n",
    "```"
   ]
  },
  {
   "cell_type": "markdown",
   "id": "d0e91425-6da1-491e-ae37-363f7b224116",
   "metadata": {},
   "source": [
    "```python\n",
    "sns.set_context() # changing the scale\n",
    "```\n",
    "Smallest to largest: ```'paper', 'notebook', 'talk', 'paper' ```\n",
    "Default context (\"paper\")"
   ]
  },
  {
   "cell_type": "markdown",
   "id": "4f2c8fc5-8292-4ccf-bc1e-fda577afe597",
   "metadata": {},
   "source": [
    "### Adding titles and labels"
   ]
  },
  {
   "cell_type": "markdown",
   "id": "d0fadcd3-7031-4597-9f18-885b8ab5d19d",
   "metadata": {},
   "source": [
    "|Object Type| Plot Types| Characteristics|\n",
    "------------|-----------|----------------|\n",
    "|FacetGrid |relplot(), catplot()| Can create subplots|\n",
    "|AxesSubplot| scatterplot() , countplot() , etc. |Only creates a single plot|"
   ]
  },
  {
   "cell_type": "markdown",
   "id": "6df99941-15e0-47aa-a4c0-6734cd3f1348",
   "metadata": {},
   "source": [
    "```python\n",
    "g = sns.catplot(x=\"col_x\",\n",
    "                y=\"col_y\",\n",
    "                data=df,\n",
    "                kind=\"box\")\n",
    "g.fig.suptitle(\"New Title\") # .fig.suptitle : adding a title to FacetGrid\n",
    "plt.show()\n",
    "```"
   ]
  },
  {
   "cell_type": "markdown",
   "id": "98a4ea16-c91a-4dac-8c53-5a0b85be8fa1",
   "metadata": {},
   "source": [
    "```python\n",
    "g = sns.catplot(x=\"col_x\",\n",
    "                y=\"col_y\",\n",
    "                data=df,\n",
    "                kind=\"box\")\n",
    "\n",
    "g.fig.suptitle(\"New Title\", \n",
    "               y=1.03) # adjusting height of title in FacetGrid\n",
    "\n",
    "plt.show()\n",
    "```"
   ]
  },
  {
   "cell_type": "markdown",
   "id": "3eb9d750-8622-4961-ae98-deed12e24bfd",
   "metadata": {},
   "source": [
    "```python\n",
    "g = sns.boxplot(x=\"col_x\",\n",
    "               y=\"col_y\",\n",
    "               data=df)\n",
    "\n",
    "g.set_title(\"New Title\", # adding a title to AxesSubplot\n",
    "            y=1.03)\n",
    "```"
   ]
  },
  {
   "cell_type": "markdown",
   "id": "81c80e4d-1eee-454d-bdb5-b231e39d079c",
   "metadata": {},
   "source": [
    "```python\n",
    "g = sns.catplot(x=\"col_x\",\n",
    "                y=\"col_y\",\n",
    "                data=df,\n",
    "                kind=\"box\",\n",
    "                col=\"col_z\")\n",
    "\n",
    "g.fig.suptitle(\"New Title\",\n",
    "               y=1.03)\n",
    "\n",
    "g.set_titles(\"This is {col_name}\") # Titles for subplots\n",
    "```"
   ]
  },
  {
   "cell_type": "markdown",
   "id": "df2bc2db-8852-4645-ac39-4536d0822dc9",
   "metadata": {},
   "source": [
    "```python\n",
    "g = sns.catplot(x=\"col_x\",\n",
    "                y=\"col_y\",\n",
    "                data=df,\n",
    "                kind=\"box\")\n",
    "\n",
    "g.set(xlabel=\"New X Label\", # adding axis labels\n",
    "      ylabel=\"New Y Label\") \n",
    "```"
   ]
  },
  {
   "cell_type": "markdown",
   "id": "ef6e6398-2eaa-4cb2-b2cd-b47f246efb4b",
   "metadata": {},
   "source": [
    "```python\n",
    "g = sns.catplot(x=\"col_x\",\n",
    "                y=\"col_y\",\n",
    "                data=df,\n",
    "                kind=\"box\")\n",
    "\n",
    "plt.xticks(rotation=90) # rotating x-axis tick labels\n",
    "\n",
    "plt.show()\n",
    "```"
   ]
  }
 ],
 "metadata": {
  "kernelspec": {
   "display_name": "Python 3 (ipykernel)",
   "language": "python",
   "name": "python3"
  },
  "language_info": {
   "codemirror_mode": {
    "name": "ipython",
    "version": 3
   },
   "file_extension": ".py",
   "mimetype": "text/x-python",
   "name": "python",
   "nbconvert_exporter": "python",
   "pygments_lexer": "ipython3",
   "version": "3.8.13"
  },
  "toc": {
   "base_numbering": 1,
   "nav_menu": {},
   "number_sections": true,
   "sideBar": true,
   "skip_h1_title": false,
   "title_cell": "Table of Contents",
   "title_sidebar": "Contents",
   "toc_cell": false,
   "toc_position": {},
   "toc_section_display": true,
   "toc_window_display": false
  },
  "varInspector": {
   "cols": {
    "lenName": 16,
    "lenType": 16,
    "lenVar": 40
   },
   "kernels_config": {
    "python": {
     "delete_cmd_postfix": "",
     "delete_cmd_prefix": "del ",
     "library": "var_list.py",
     "varRefreshCmd": "print(var_dic_list())"
    },
    "r": {
     "delete_cmd_postfix": ") ",
     "delete_cmd_prefix": "rm(",
     "library": "var_list.r",
     "varRefreshCmd": "cat(var_dic_list()) "
    }
   },
   "types_to_exclude": [
    "module",
    "function",
    "builtin_function_or_method",
    "instance",
    "_Feature"
   ],
   "window_display": false
  }
 },
 "nbformat": 4,
 "nbformat_minor": 5
}