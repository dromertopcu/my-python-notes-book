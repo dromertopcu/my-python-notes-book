{
 "cells": [
  {
   "cell_type": "markdown",
   "id": "818270bf-3739-4da5-a89a-4ff3f25019b0",
   "metadata": {
    "tags": []
   },
   "source": [
    "## Intermediate Data Visualization with Seaborn"
   ]
  },
  {
   "cell_type": "markdown",
   "id": "3aa791f9-6f07-46fc-802a-435d036b8714",
   "metadata": {
    "tags": []
   },
   "source": [
    "### Introduction to Seaborn"
   ]
  },
  {
   "cell_type": "markdown",
   "id": "fab31601-bfbd-49a8-973c-0a3db1493b73",
   "metadata": {
    "tags": []
   },
   "source": [
    "```\n",
    "Matplotlib\n",
    "```\n",
    "```python\n",
    "import matplotlib.pyplot as plt\n",
    "import pandas as pd\n",
    "df = pd.read_csv(\"df.csv\")\n",
    "fig, ax = plt.subplots()\n",
    "ax.hist(df['col_name'])\n",
    "````"
   ]
  },
  {
   "cell_type": "markdown",
   "id": "b8a16529-fe78-4f3d-b5cb-eb1d240eb88e",
   "metadata": {
    "tags": []
   },
   "source": [
    "```\n",
    "Pandas\n",
    "```\n",
    "```python\n",
    "import matplotlib.pyplot as plt\n",
    "import pandas as pd\n",
    "df = pd.read_csv(\"df.csv\")\n",
    "df['col_name'].plot.hist()\n",
    "````"
   ]
  },
  {
   "cell_type": "markdown",
   "id": "150a0b16-531e-42d6-b9df-13cf2e57af11",
   "metadata": {
    "tags": []
   },
   "source": [
    "```python\n",
    "import seaborn as sns\n",
    "sns.histplot(df['col_name']) #seaborn histplot\n",
    "````"
   ]
  },
  {
   "cell_type": "markdown",
   "id": "843f36e2-4285-4774-b951-c599eeab2550",
   "metadata": {
    "tags": []
   },
   "source": [
    "```python\n",
    "import seaborn as sns\n",
    "sns.distplot(df['col_name'], kind='kde') #seaborn distplot\n",
    "````\n",
    "By default, it generates a histogram but can also generate\n",
    "other plot types"
   ]
  },
  {
   "cell_type": "markdown",
   "id": "a81abec7-e630-4a93-a231-c6b3b5924e98",
   "metadata": {
    "tags": []
   },
   "source": [
    "### Using the Distribution Plot"
   ]
  },
  {
   "cell_type": "markdown",
   "id": "45964697-dd77-46f0-8c16-9e4a1821a7a4",
   "metadata": {
    "tags": []
   },
   "source": [
    "```python\n",
    "sns.displot(df['col_name'], kde=True, bins=10) #overlay a KDE plot on the histogram and specify the number of bins\n",
    "````\n"
   ]
  },
  {
   "cell_type": "markdown",
   "id": "d071178f-a192-4007-af4c-0f4ea9938813",
   "metadata": {
    "tags": []
   },
   "source": [
    "A rug plot is an alternative way to view the distribution of data by including small tickmarks along the x axis\n",
    "```python\n",
    "sns.displot(df['col_name'], kind='kde', rug=True, fill=True) #A kde curve and rug plot can be combined\n",
    "````\n"
   ]
  },
  {
   "cell_type": "markdown",
   "id": "9268bada-97e5-4832-ad32-b6c95fcb3cc8",
   "metadata": {
    "tags": []
   },
   "source": [
    "The displot function uses several functions including kdeplot , rugplot and ecdfplot\n",
    "```python\n",
    "sns.displot(df['col_name'], kind='ecdf') #The ecdfplot shows the cumulative distribution of the data\n",
    "````\n"
   ]
  },
  {
   "cell_type": "markdown",
   "id": "d49d8073-931c-471e-ab32-adb57e4a6c77",
   "metadata": {
    "tags": []
   },
   "source": [
    "### Regression Plots in Seaborn"
   ]
  },
  {
   "cell_type": "markdown",
   "id": "e87d7cf6-d800-4704-bad2-437e13aaf4ab",
   "metadata": {
    "tags": []
   },
   "source": [
    "The regplot function generates a sca er plot with a regression line\n",
    "```python\n",
    "sns.regplot(data=df, x=\"col_name_1\", y=\"col_name_2\" ) # regplot\n",
    "````\n"
   ]
  },
  {
   "cell_type": "markdown",
   "id": "8fbaf3d1-69f8-4aa7-aa93-01169e25dda0",
   "metadata": {
    "tags": []
   },
   "source": [
    "```python\n",
    "sns.lmplot(data=df, x=\"col_name_1\", y=\"col_name_2\" ) # lmplot high level of regplot\n",
    "````"
   ]
  },
  {
   "cell_type": "markdown",
   "id": "1a627a76-3b2f-4788-ba8f-f3aa0488ed8f",
   "metadata": {
    "tags": []
   },
   "source": [
    "```python\n",
    "sns.lmplot(data=df, x=\"col_name_1\", y=\"col_name_2\", hue='col_name_3') # Organize data by colors\n",
    "````"
   ]
  },
  {
   "cell_type": "markdown",
   "id": "ab0b6e81-9bf0-4f6c-8444-8ec7ce0ebe2a",
   "metadata": {
    "tags": []
   },
   "source": [
    "```python\n",
    "sns.lmplot(data=df, x=\"col_name_1\", y=\"col_name_2\", col='col_name_3') # Organize data by columns\n",
    "````"
   ]
  },
  {
   "cell_type": "markdown",
   "id": "1fe6e1ae-9f2c-4df5-bbf3-7f431e238e41",
   "metadata": {
    "tags": []
   },
   "source": [
    "### Using Seaborn Styles"
   ]
  },
  {
   "cell_type": "markdown",
   "id": "b01dd354-bf46-4002-bb7d-82ecb1074284",
   "metadata": {
    "tags": []
   },
   "source": [
    "```python\n",
    "sns.set() # seaborn's default configurations\n",
    "```"
   ]
  },
  {
   "cell_type": "markdown",
   "id": "5304bf7f-be51-41fd-a91c-ad2d584c6cd9",
   "metadata": {
    "tags": []
   },
   "source": [
    "```python\n",
    "for style in ['white','dark','whitegrid','darkgrid','tick'] : \n",
    "    sns.set_style(style) # theme examples with sns.set_style()\n",
    "    sns.displot(df['col_name'])\n",
    "    plt.show()\n",
    "```"
   ]
  },
  {
   "cell_type": "markdown",
   "id": "ad07e783-23af-44c0-b9d6-0f0bff8c69f5",
   "metadata": {
    "tags": []
   },
   "source": [
    "```python\n",
    "sns.despine(left=True) # removing the spines\n",
    "```"
   ]
  },
  {
   "cell_type": "markdown",
   "id": "7616bbe9-0762-4068-8fd5-592a4ac652ee",
   "metadata": {
    "tags": []
   },
   "source": [
    "### Colors in Seaborn"
   ]
  },
  {
   "cell_type": "markdown",
   "id": "00b475ab-9bfc-4ed7-9259-022e1bd0aae9",
   "metadata": {
    "tags": []
   },
   "source": [
    "```python\n",
    "sns.set(color_codes=True) #assigning colors to plots using matplotlib color codes\n",
    "sns.displot(df['col_name'], color='g') \n",
    "```"
   ]
  },
  {
   "cell_type": "markdown",
   "id": "a0990a80-8595-40cb-a5b2-60a759ad9be7",
   "metadata": {
    "tags": []
   },
   "source": [
    "```python\n",
    "palettes = ['deep', 'muted', 'pastel', 'bright', 'dark','colorblind']\n",
    "for p in palettes:\n",
    "    sns.set_palette(p) #defining a palette\n",
    "    sns.displot(df['col_name'])\n",
    "```"
   ]
  },
  {
   "cell_type": "markdown",
   "id": "e5f83a98-e6fd-436d-b1f7-c6c447e38dc0",
   "metadata": {
    "tags": []
   },
   "source": [
    "```python\n",
    "sns.palplot() # displays a palette\n",
    "sns.color_palette() # returns the current palette\n",
    "sns.palplot(sns.color_palette()) # displays the current palette\n",
    "```"
   ]
  },
  {
   "cell_type": "markdown",
   "id": "c98177a0-fab1-40fb-9f5b-7cf7b05f3796",
   "metadata": {
    "tags": []
   },
   "source": [
    "### Customizing with matplotlib"
   ]
  },
  {
   "cell_type": "markdown",
   "id": "aa25a7d2-3956-4ed0-8ee2-fee2ca289db3",
   "metadata": {
    "tags": []
   },
   "source": [
    "```python\n",
    "fig, ax = plt.subplots()\n",
    "sns.histplot(df['col_name'], ax=ax)\n",
    "ax.set(xlabel='x_label') # customization\n",
    "```"
   ]
  },
  {
   "cell_type": "markdown",
   "id": "a6e03cac-1042-4203-bffa-cbe7fc384cf7",
   "metadata": {
    "tags": []
   },
   "source": [
    "```python\n",
    "fig, ax = plt.subplots()\n",
    "sns.histplot(df['col_name'], ax=ax)\n",
    "ax.set(xlabel=\"x_label\",\n",
    "       ylabel=\"y_label\", xlim=(0, 50000), #further customizations\n",
    "       title=\"title\")\n",
    "```"
   ]
  },
  {
   "cell_type": "markdown",
   "id": "7ce3edf1-5661-4cf4-bbab-789888a47224",
   "metadata": {
    "tags": []
   },
   "source": [
    "**Combining plots**\n",
    "```python\n",
    "fig, (ax0, ax1) = plt.subplots(nrows=1, ncols=2,\n",
    "                               sharey=True, figsize=(7,4))\n",
    "sns.histplot(df['col_name'], stat='density', ax=ax0)\n",
    "sns.histplot(df.query('col_name_1 == \"val_1\"')['col_name'], stat='density', ax=ax1)\n",
    "ax1.set(xlabel='col_name (val_1)', xlim=(0, 70000))\n",
    "ax1.axvline(x=20000, label='label_vline', linestyle='--')\n",
    "ax1.legend()\n",
    "```"
   ]
  },
  {
   "cell_type": "markdown",
   "id": "4235d0d0-992a-4f89-a2b1-9981e0929351",
   "metadata": {
    "tags": []
   },
   "source": [
    "### Categorical Plot Types"
   ]
  },
  {
   "cell_type": "markdown",
   "id": "ea9a2db7-ee6a-4289-a29b-a5cb586cfea1",
   "metadata": {
    "tags": []
   },
   "source": [
    "**Combining plots**\n",
    "```python\n",
    "fig, (ax0, ax1) = plt.subplots(nrows=1, ncols=2,\n",
    "                               sharey=True, figsize=(7,4))\n",
    "sns.histplot(df['col_name'], stat='density', ax=ax0)\n",
    "sns.histplot(df.query('col_name_1 == \"val_1\"')['col_name'], stat='density', ax=ax1)\n",
    "ax1.set(xlabel='col_name (val_1)', xlim=(0, 70000))\n",
    "ax1.axvline(x=20000, label='label_vline', linestyle='--')\n",
    "ax1.legend()\n",
    "```"
   ]
  }
 ],
 "metadata": {
  "kernelspec": {
   "display_name": "Python 3 (ipykernel)",
   "language": "python",
   "name": "python3"
  },
  "language_info": {
   "codemirror_mode": {
    "name": "ipython",
    "version": 3
   },
   "file_extension": ".py",
   "mimetype": "text/x-python",
   "name": "python",
   "nbconvert_exporter": "python",
   "pygments_lexer": "ipython3",
   "version": "3.8.13"
  },
  "toc": {
   "base_numbering": 1,
   "nav_menu": {},
   "number_sections": true,
   "sideBar": true,
   "skip_h1_title": false,
   "title_cell": "Table of Contents",
   "title_sidebar": "Contents",
   "toc_cell": false,
   "toc_position": {},
   "toc_section_display": true,
   "toc_window_display": false
  },
  "varInspector": {
   "cols": {
    "lenName": 16,
    "lenType": 16,
    "lenVar": 40
   },
   "kernels_config": {
    "python": {
     "delete_cmd_postfix": "",
     "delete_cmd_prefix": "del ",
     "library": "var_list.py",
     "varRefreshCmd": "print(var_dic_list())"
    },
    "r": {
     "delete_cmd_postfix": ") ",
     "delete_cmd_prefix": "rm(",
     "library": "var_list.r",
     "varRefreshCmd": "cat(var_dic_list()) "
    }
   },
   "types_to_exclude": [
    "module",
    "function",
    "builtin_function_or_method",
    "instance",
    "_Feature"
   ],
   "window_display": false
  }
 },
 "nbformat": 4,
 "nbformat_minor": 5
}
