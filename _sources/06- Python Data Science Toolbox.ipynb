{
 "cells": [
  {
   "cell_type": "markdown",
   "id": "f2d7ae1e-2ce4-4db3-93ff-1a0e3817641e",
   "metadata": {
    "tags": []
   },
   "source": [
    "## Python Data Science Toolbox"
   ]
  },
  {
   "cell_type": "markdown",
   "id": "2fadd6e2-1665-458c-87c4-6e7a9a0f1aca",
   "metadata": {},
   "source": [
    "### Introduction to iterators"
   ]
  },
  {
   "cell_type": "markdown",
   "id": "c23e8c2a-e4fa-4a44-9203-87a6284ab1a8",
   "metadata": {},
   "source": [
    "**Iterable**\n",
    "* Examples: lists, strings, dictionaries, ,le connections\n",
    "* An object with an associated iter() method\n",
    "* Applying iter() to an iterable creates an iterator</a>\n",
    "\n",
    "**Iterator**\n",
    "* Produces next value with next()"
   ]
  },
  {
   "cell_type": "markdown",
   "id": "91c44e14-b9a3-4588-a545-46617b50454f",
   "metadata": {},
   "source": [
    "```python\n",
    "word = 'Da'\n",
    "it = iter(word) \n",
    "next(it) # iterating over iterables\n",
    "```\n",
    "```\n",
    "'D'\n",
    "```\n",
    "```python\n",
    "next(it)\n",
    "```\n",
    "```\n",
    "'a'\n",
    "```\n",
    "```python\n",
    "next(it)\n",
    "```\n",
    "```\n",
    "StopIteration Traceback (most recent call last)\n",
    "<ipython-input-11-2cdb14c0d4d6> in <module>()\n",
    "-> 1 next(it)\n",
    "StopIteration:\n",
    "```"
   ]
  },
  {
   "cell_type": "markdown",
   "id": "bd7fea8f-2edb-4ab4-b07f-87320b5e4cd2",
   "metadata": {},
   "source": [
    "```python\n",
    "word = 'Da'\n",
    "it = iter(word) \n",
    "print(*it) # iterating at once with *\n",
    "```\n",
    "```\n",
    "D a t a\n",
    "```\n",
    "```python\n",
    "print(*it) # no more values to go through\n",
    "```\n",
    "```\n",
    "```"
   ]
  },
  {
   "cell_type": "markdown",
   "id": "6123f88e-b8ae-4f5c-a3e5-b7ef841165f6",
   "metadata": {},
   "source": [
    "```python\n",
    "file = open('file.txt') # iterating over file connections\n",
    "it = iter(file) \n",
    "print(next(it))\n",
    "```\n",
    "```\n",
    "This is the first line.\n",
    "```\n",
    "```python\n",
    "print(next(it))\n",
    "```\n",
    "```\n",
    "This is the second line.\n",
    "```"
   ]
  },
  {
   "cell_type": "markdown",
   "id": "f5768456-4bf3-4779-9812-bd5c2ad07405",
   "metadata": {},
   "source": [
    "### Playing with iterators"
   ]
  },
  {
   "cell_type": "markdown",
   "id": "505d58d7-2d8f-4ac6-958b-95f22aee91d9",
   "metadata": {},
   "source": [
    "```python\n",
    "avengers = ['hawkeye', 'iron man', 'thor', 'quicksilver']\n",
    "e = enumerate(avengers) # using enumerate()\n",
    "print(type(e))\n",
    "```\n",
    "```\n",
    "<class 'enumerate'>\n",
    "```\n",
    "```python\n",
    "e_list = list(e)\n",
    "print(e_list)\n",
    "```\n",
    "```\n",
    "[(0, 'hawkeye'), (1, 'iron man'), (2, 'thor'), (3, 'quicksilver')]\n",
    "```"
   ]
  },
  {
   "cell_type": "markdown",
   "id": "53525e06-7327-4357-ad0e-0f517947e61c",
   "metadata": {},
   "source": [
    "```python\n",
    "avengers = ['hawkeye', 'iron man', 'thor', 'quicksilver']\n",
    "for index, value in enumerate(avengers): # enumerate() and unpack\n",
    "    print(index, value)\n",
    "```\n",
    "```\n",
    "0 hawkeye\n",
    "1 iron man\n",
    "2 thor\n",
    "3 quicksilver\n",
    "```\n",
    "```python\n",
    "for index, value in enumerate(avengers, start=10):\n",
    "    print(index, value)\n",
    "```\n",
    "```\n",
    "10 hawkeye\n",
    "11 iron man\n",
    "12 thor\n",
    "13 quicksilver\n",
    "```"
   ]
  },
  {
   "cell_type": "markdown",
   "id": "5ecd847b-2798-4ed8-84c7-4169d168e3f9",
   "metadata": {},
   "source": [
    "```python\n",
    "avengers = ['hawkeye', 'iron man', 'thor', 'quicksilver']\n",
    "names = ['barton', 'stark', 'odinson', 'maximoff']\n",
    "z = zip(avengers, names) # using zip()\n",
    "print(type(z))\n",
    "```\n",
    "```\n",
    "<class 'zip'>\n",
    "```\n",
    "```python\n",
    "z_list = list(z)\n",
    "print(z_list)\n",
    "```\n",
    "```\n",
    "[('hawkeye', 'barton'), ('iron man', 'stark'),\n",
    "('thor', 'odinson'), ('quicksilver', 'maximoff')]\n",
    "```"
   ]
  },
  {
   "cell_type": "markdown",
   "id": "a1fa4846-c409-4524-ba03-104d0980156d",
   "metadata": {},
   "source": [
    "```python\n",
    "avengers = ['hawkeye', 'iron man', 'thor', 'quicksilver']\n",
    "names = ['barton', 'stark', 'odinson', 'maximoff']\n",
    "for z1, z2 in zip(avengers, names): # zip() and unpack\n",
    "    print(z1, z2)\n",
    "```\n",
    "```\n",
    "hawkeye barton\n",
    "iron man stark\n",
    "thor odinson\n",
    "quicksilver maximoff\n",
    "```"
   ]
  },
  {
   "cell_type": "markdown",
   "id": "25f4b61c-4e2c-49fc-b664-84f52a3e035b",
   "metadata": {},
   "source": [
    "```python\n",
    "avengers = ['hawkeye', 'iron man', 'thor', 'quicksilver']\n",
    "names = ['barton', 'stark', 'odinson', 'maximoff']\n",
    "z = zip(avengers, names)\n",
    "print(*z) # print zip with *\n",
    "```\n",
    "```\n",
    "('hawkeye', 'barton') ('iron man', 'stark')\n",
    "('thor', 'odinson') ('quicksilver', 'maximoff')\n",
    "```"
   ]
  },
  {
   "cell_type": "markdown",
   "id": "912fa715-ed04-4a2d-b596-a0433edbce57",
   "metadata": {},
   "source": [
    "### Using iterators to load large files into memory"
   ]
  },
  {
   "cell_type": "markdown",
   "id": "3788d719-d917-40db-b99f-bff7b83888b5",
   "metadata": {},
   "source": [
    "```python\n",
    "import pandas as pd\n",
    "result = []\n",
    "for chunk in pd.read_csv('data.csv', chunksize=1000): # iterating over data specify the chunksize\n",
    "    result.append(sum(chunk['x']))\n",
    "total = sum(result)\n",
    "print(total)\n",
    "```\n",
    "```\n",
    "4252532\n",
    "```"
   ]
  },
  {
   "cell_type": "markdown",
   "id": "e7d6ae3a-d776-4611-a587-23c043b288cf",
   "metadata": {},
   "source": [
    "### List comprehensions"
   ]
  },
  {
   "cell_type": "markdown",
   "id": "a3059d41-32d2-4a01-b176-c3a0f881e7e7",
   "metadata": {},
   "source": [
    "```python\n",
    "nums = [12, 8, 21, 3, 16]\n",
    "new_nums = [num + 1 for num in nums] # list comprehension\n",
    "print(new_nums)\n",
    "```\n",
    "```\n",
    "[13, 9, 22, 4, 17]\n",
    "```"
   ]
  },
  {
   "cell_type": "markdown",
   "id": "61522103-3285-4d2c-8c97-a77650fc559c",
   "metadata": {},
   "source": [
    "```python\n",
    "result = [num for num in range(11)] # list comprehension with range()\n",
    "print(result)\n",
    "```\n",
    "```\n",
    "[0, 1, 2, 3, 4, 5, 6, 7, 8, 9, 10]\n",
    "```"
   ]
  },
  {
   "cell_type": "markdown",
   "id": "2a8018b3-f998-49d3-8656-462ad1c8c1d8",
   "metadata": {},
   "source": [
    "```python\n",
    "pairs_2 = [(num1, num2) for num1 in range(0, 2) for num2 in range(6, 8)] # nested loops\n",
    "print(pairs_2)\n",
    "```\n",
    "```\n",
    "[(0, 6), (0, 7), (1, 6), (1, 7)]\n",
    "```"
   ]
  },
  {
   "cell_type": "markdown",
   "id": "0e9c1a88-1c8b-4760-a318-635c081ead75",
   "metadata": {},
   "source": [
    "### Advanced comprehensions"
   ]
  },
  {
   "cell_type": "markdown",
   "id": "676c7956-2984-426f-9433-4b82333ecaeb",
   "metadata": {},
   "source": [
    "```python\n",
    "[num ** 2 for num in range(10) if num % 2 == 0] # conditionals in comprehensions\n",
    "```\n",
    "```\n",
    "[0, 4, 16, 36, 64]\n",
    "```"
   ]
  },
  {
   "cell_type": "markdown",
   "id": "1966abed-e33d-4762-8a14-0be1833bcd38",
   "metadata": {},
   "source": [
    "```python\n",
    "[num ** 2 if num % 2 == 0 else 0 for num in range(10)] # conditionals in comprehensions\n",
    "```\n",
    "```\n",
    "[0, 0, 4, 0, 16, 0, 36, 0, 64, 0]\n",
    "```"
   ]
  },
  {
   "cell_type": "markdown",
   "id": "fb277bb8-ac64-4620-8d31-63b488d2715d",
   "metadata": {},
   "source": [
    "```python\n",
    "pos_neg = {num: -num for num in range(9)} # dict comprehensions\n",
    "print(pos_neg) \n",
    "```\n",
    "```\n",
    "{0: 0, 1: -1, 2: -2, 3: -3, 4: -4, 5: -5, 6: -6, 7: -7, 8: -8}\n",
    "```"
   ]
  },
  {
   "cell_type": "markdown",
   "id": "df14350b-60fe-4991-a1ea-bf86d863c9b3",
   "metadata": {},
   "source": [
    "### Introduction to generator expressions"
   ]
  },
  {
   "cell_type": "markdown",
   "id": "5c7df3b2-431b-43bb-ad11-f579f0991d5f",
   "metadata": {},
   "source": [
    "Recall list comprehension :\n",
    "```python\n",
    "[2 * num for num in range(10)]\n",
    "```\n",
    "```\n",
    "[0, 2, 4, 6, 8, 10, 12, 14, 16, 18]\n",
    "```\n",
    "Use ```( )``` instead of ```[ ]``` :\n",
    "```python\n",
    "(2 * num for num in range(10))\n",
    "```\n",
    "```\n",
    "<generator object <genexpr> at 0x1046bf888>\n",
    "```"
   ]
  },
  {
   "cell_type": "markdown",
   "id": "851c08d5-e1e0-4437-8638-98f4aaa3197d",
   "metadata": {},
   "source": [
    "```python\n",
    "result = (num for num in range(6))\n",
    "for num in result:\n",
    "    print(num)\n",
    "```\n",
    "```\n",
    "0\n",
    "1\n",
    "2\n",
    "3\n",
    "4\n",
    "5\n",
    "```\n",
    "```python\n",
    "print(list(result))\n",
    "```\n",
    "```\n",
    "[0, 1, 2, 3, 4, 5]\n",
    "```"
   ]
  },
  {
   "cell_type": "markdown",
   "id": "eba1377b-5700-4736-af97-a4ac35e143d1",
   "metadata": {},
   "source": [
    "```python\n",
    "even_nums = (num for num in range(10) if num % 2 == 0)\n",
    "print(list(even_nums))\n",
    "```\n",
    "```\n",
    "[0, 2, 4, 6, 8]\n",
    "```"
   ]
  },
  {
   "cell_type": "markdown",
   "id": "3c173a04-d0b4-48be-a300-24592d63c533",
   "metadata": {},
   "source": [
    "Generator functions\n",
    "* Produces generator objects when called\n",
    "* Defined like a regular function  ```def```\n",
    "* Yields a sequence of values instead of returning a single value\n",
    "* Generates a value with ```yield``` keyword"
   ]
  },
  {
   "cell_type": "markdown",
   "id": "1112edc7-2213-4497-a1a9-2bd7d815eb9c",
   "metadata": {},
   "source": [
    "```python\n",
    "def num_sequence(n):\n",
    "    \"\"\"Generate values from 0 to n.\"\"\"\n",
    "    i = 0\n",
    "    while i < n:\n",
    "        yield i\n",
    "        i += 1\n",
    "```"
   ]
  },
  {
   "cell_type": "markdown",
   "id": "2e2f1f7e-a2e9-46f8-98d8-9b57e379bce2",
   "metadata": {},
   "source": [
    "```python\n",
    "result = num_sequence(5)\n",
    "print(type(result))\n",
    "```\n",
    "```\n",
    "<class 'generator'>\n",
    "```\n",
    "```python\n",
    "for item in result:\n",
    "    print(item)\n",
    "```\n",
    "```\n",
    "0\n",
    "1\n",
    "2\n",
    "3\n",
    "4\n",
    "```"
   ]
  }
 ],
 "metadata": {
  "kernelspec": {
   "display_name": "Python 3 (ipykernel)",
   "language": "python",
   "name": "python3"
  },
  "language_info": {
   "codemirror_mode": {
    "name": "ipython",
    "version": 3
   },
   "file_extension": ".py",
   "mimetype": "text/x-python",
   "name": "python",
   "nbconvert_exporter": "python",
   "pygments_lexer": "ipython3",
   "version": "3.8.13"
  },
  "toc": {
   "base_numbering": 1,
   "nav_menu": {},
   "number_sections": true,
   "sideBar": true,
   "skip_h1_title": false,
   "title_cell": "Table of Contents",
   "title_sidebar": "Contents",
   "toc_cell": false,
   "toc_position": {},
   "toc_section_display": true,
   "toc_window_display": false
  },
  "varInspector": {
   "cols": {
    "lenName": 16,
    "lenType": 16,
    "lenVar": 40
   },
   "kernels_config": {
    "python": {
     "delete_cmd_postfix": "",
     "delete_cmd_prefix": "del ",
     "library": "var_list.py",
     "varRefreshCmd": "print(var_dic_list())"
    },
    "r": {
     "delete_cmd_postfix": ") ",
     "delete_cmd_prefix": "rm(",
     "library": "var_list.r",
     "varRefreshCmd": "cat(var_dic_list()) "
    }
   },
   "types_to_exclude": [
    "module",
    "function",
    "builtin_function_or_method",
    "instance",
    "_Feature"
   ],
   "window_display": false
  }
 },
 "nbformat": 4,
 "nbformat_minor": 5
}
