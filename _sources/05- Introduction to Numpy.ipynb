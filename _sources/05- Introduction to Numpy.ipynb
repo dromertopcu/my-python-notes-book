{
 "cells": [
  {
   "cell_type": "markdown",
   "id": "15496aa6-6eae-402c-ab61-21e1283f8b34",
   "metadata": {
    "tags": []
   },
   "source": [
    "## Introduction to Numpy"
   ]
  },
  {
   "cell_type": "markdown",
   "id": "e6fc7f6c-f943-40fb-b06f-0b849e9430a2",
   "metadata": {},
   "source": [
    "```python\n",
    "import numpy as np\n",
    "python_list = [3, 2, 5, 8, 4, 9, 7, 6, 1]\n",
    "array = np.array(python_list) # creating 1D arrays from lists\n",
    "```"
   ]
  },
  {
   "cell_type": "markdown",
   "id": "748fce5e-0084-4d0e-9b8a-8d4aa47914ca",
   "metadata": {},
   "source": [
    "```python\n",
    "python_list_of_lists = [[3, 2, 5],\n",
    "                        [9, 7, 1],\n",
    "                        [4, 3, 6]]\n",
    "array = np.array(python_list_of_lists) # creating 2D arrays from lists\n",
    "```"
   ]
  },
  {
   "cell_type": "markdown",
   "id": "611e666c-0345-4bca-aa3b-d7ed455d0846",
   "metadata": {},
   "source": [
    "NumPy arrays\n",
    "* Can contain only a single data type\n",
    "* Use less space in memory"
   ]
  },
  {
   "cell_type": "markdown",
   "id": "957a1331-bcac-4bdd-b068-71ee994a24bb",
   "metadata": {},
   "source": [
    "```python\n",
    "#creating arrays from scratch\n",
    "np.zeros((5, 3))\n",
    "np.random.random((2, 4)) # 2 row 4 column\n",
    "np.arange(-3, 4)\n",
    "```"
   ]
  },
  {
   "cell_type": "markdown",
   "id": "0ebd72fe-5adf-4801-99de-adedf86e8b63",
   "metadata": {},
   "source": [
    "```python\n",
    ".shape # array attribute\n",
    "\n",
    ".flatten() # array methods\n",
    ".reshape()\n",
    "\n",
    "\n",
    "```"
   ]
  },
  {
   "cell_type": "markdown",
   "id": "055dc898-a258-4717-a711-d0acf94fe3bb",
   "metadata": {
    "jp-MarkdownHeadingCollapsed": true,
    "tags": []
   },
   "source": [
    "### Numpy data types "
   ]
  },
  {
   "cell_type": "markdown",
   "id": "489cbe10-cb2d-4dfb-a112-cbad39608fb9",
   "metadata": {},
   "source": [
    "Sample NumPy data types:\n",
    "* np.int64\n",
    "* np.int32\n",
    "* np.float64\n",
    "* np.float32"
   ]
  },
  {
   "cell_type": "markdown",
   "id": "fdf80dde-87bb-4095-ad38-fd61ceffd1ee",
   "metadata": {},
   "source": [
    "```python\n",
    ".dtype #attribute\n",
    "```"
   ]
  },
  {
   "cell_type": "markdown",
   "id": "bb9f9309-ecc1-459b-9007-92c749d8d4cc",
   "metadata": {},
   "source": [
    "```python\n",
    "boolean_array = np.array([[True, False], [False, False]], dtype=np.bool_) #dtype as an argument\n",
    "\n",
    "boolean_array.astype(np.int32) # type conversion\n",
    "```\n",
    "```\n",
    "array([[1, 0],\n",
    "       [0, 0]], dtype=int32)\n",
    "```"
   ]
  },
  {
   "cell_type": "markdown",
   "id": "47f3ea18-ac54-486e-ab36-9eca0422d1e5",
   "metadata": {},
   "source": [
    "```python\n",
    "np.array([True, \"Boop\", 42, 42.42]) # type coercion\n",
    "```\n",
    "```\n",
    "array(['True', 'Boop', '42', '42.42'], dtype='<U5')\n",
    "```"
   ]
  },
  {
   "cell_type": "markdown",
   "id": "91ab62de-2c19-4699-9258-5450569e8961",
   "metadata": {},
   "source": [
    "### Sorting arrays"
   ]
  },
  {
   "cell_type": "markdown",
   "id": "0472696b-2b40-4ce6-91d0-86a7fb1fe63e",
   "metadata": {},
   "source": [
    "```python\n",
    "np.sort(array) # default axis=1 sorting rows\n",
    "np.sort(array, axis=0) # sorting columns\n",
    "```"
   ]
  },
  {
   "cell_type": "markdown",
   "id": "e0953dc0-d22f-48d2-bbb1-67fe229f1c6a",
   "metadata": {},
   "source": [
    "### Filtering arrays"
   ]
  },
  {
   "cell_type": "markdown",
   "id": "e59cd638-6ce4-4f4d-9232-1cbcb7d029ee",
   "metadata": {},
   "source": [
    "```python\n",
    "np.where(array[:, 1] % 2 == 0)\n",
    "```\n",
    "```\n",
    "(array([0, 3]),) # returns array of indices\n",
    "```"
   ]
  },
  {
   "cell_type": "markdown",
   "id": "7fb8caf1-1e50-45bc-b299-1cf2338f8454",
   "metadata": {},
   "source": [
    "```python\n",
    "row_ind, column_ind = np.where(array == 0)\n",
    "row_ind, column_ind\n",
    "```\n",
    "```\n",
    "(array([0, 0, 0, 0, 0, 1, 1, 1, 1, 1, 1, 2, 2, 2, 2, 2, 3, 3, 3, 3, 3, 4, 4, 4, 4, 4, 5, 5, 5, 5, 5, 5, 6, 6, 6, 6, 6, 6, 7, 7, 7, 7, 8, 8, 8, 8]),\n",
    "array([0, 1, 4, 5, 7, 0, 1, 3, 4, 6, 7, 0, 2, 3, 5, 6, 0, 1, 3, 4, 6, 2,3, 4, 7, 8, 0, 2, 3, 6, 7, 8, 1, 2, 3, 4, 5, 7, 0, 1, 4, 8, 0, 5, 7, 8]))\n",
    "```"
   ]
  },
  {
   "cell_type": "markdown",
   "id": "83a70bd1-a664-4716-89cf-aeda6b108d97",
   "metadata": {},
   "source": [
    "```python\n",
    "np.where(array == 0, \"\", array) #find and replace\n",
    "```"
   ]
  },
  {
   "cell_type": "markdown",
   "id": "0789c903-24bb-4964-ae4d-9b311cf99de1",
   "metadata": {},
   "source": [
    "### Adding and removing data"
   ]
  },
  {
   "cell_type": "markdown",
   "id": "d51a8635-7d83-4656-9bbf-83e49dafaadc",
   "metadata": {},
   "source": [
    "```np.concatenate()``` concatenates along the first axis by default.\n",
    "```python\n",
    "np.concatenate((array1, array2)) #concatenating rows\n",
    "```"
   ]
  },
  {
   "cell_type": "markdown",
   "id": "cebf2500-325e-40bc-8c65-bbf0f6a4f54a",
   "metadata": {},
   "source": [
    "```python\n",
    "np.concatenate((array1, array2), axis=1) #concatenating columns\n",
    "```"
   ]
  },
  {
   "cell_type": "markdown",
   "id": "3f364b5f-3273-4a31-a80a-7d46b1b4f289",
   "metadata": {},
   "source": [
    "```python\n",
    "array_1D = np.array([1, 2, 3])\n",
    "column_array_2D = array_1D.reshape((3, 1)) # creating compatibility\n",
    "row_array_2D = array_1D.reshape((1, 3))\n",
    "```"
   ]
  },
  {
   "cell_type": "markdown",
   "id": "5782987b-2afe-4154-aef3-609243b026af",
   "metadata": {},
   "source": [
    "```python\n",
    "np.delete(array, 1, axis=0) # deleting with np.delete() (deleting second row)\n",
    "np.delete(array, 1, axis=1) # deleting second column\n",
    "np.delete(array, 1) # deleting without axis (flattened and deleting second item)\n",
    "```"
   ]
  },
  {
   "cell_type": "markdown",
   "id": "abae37a5-0918-4ad6-921d-9959451ac24c",
   "metadata": {},
   "source": [
    "### Summarizing data"
   ]
  },
  {
   "cell_type": "markdown",
   "id": "89f0fa3b-7b2e-474c-b0a1-6fd3d46015d4",
   "metadata": {},
   "source": [
    "```python\n",
    "array.sum() # summing all data\n",
    "array.sum(axis=0) # summing along column and making a sum row\n",
    "array.sum(axis=1) # summing along row and making a sum column\n",
    "```"
   ]
  },
  {
   "cell_type": "markdown",
   "id": "41ec1a5e-0f28-4eaa-ac7e-48f45b8ca9d5",
   "metadata": {},
   "source": [
    "```python\n",
    "array.min() # min of all data\n",
    "array.min(axis=0) # min of column and making a min row\n",
    "```"
   ]
  },
  {
   "cell_type": "markdown",
   "id": "0688fce5-9649-427d-b19d-4f811cd519bf",
   "metadata": {},
   "source": [
    "```python\n",
    "array.mean() # mean of all data\n",
    "array.mean(axis=1) # mean of row and making a mean column\n",
    "```"
   ]
  },
  {
   "cell_type": "markdown",
   "id": "54faad06-c355-447d-acaa-9b3b1f2f7270",
   "metadata": {},
   "source": [
    "```python\n",
    "array.sum(axis=1, keepdims=True) # keeping dimension same\n",
    "```"
   ]
  },
  {
   "cell_type": "markdown",
   "id": "bb1e20f8-e784-4d34-8117-1c4b107f4b40",
   "metadata": {},
   "source": [
    "```python\n",
    "array.cumsum(axis=0) # cumulative sums summing along column\n",
    "```"
   ]
  },
  {
   "cell_type": "markdown",
   "id": "07f55cf4-4508-4fd5-9769-6a51a7b9aea8",
   "metadata": {},
   "source": [
    "```python\n",
    "cum_sums_array = array.cumsum(axis=0) # graphing summary values\n",
    "plt.plot(np.arange(1, 6), cum_sums_array[:, 0], label=\"col_1\")\n",
    "plt.plot(np.arange(1, 6), cum_sums_array.mean(axis=1), label=\"Average\")\n",
    "plt.legend()\n",
    "plt.show()```"
   ]
  },
  {
   "cell_type": "markdown",
   "id": "04b3b99a-b0f6-4a6f-8f34-ddc53a3255fd",
   "metadata": {},
   "source": [
    "### Vectorized Operations"
   ]
  },
  {
   "cell_type": "markdown",
   "id": "0452caed-412f-4087-9968-197d8c0a74dc",
   "metadata": {},
   "source": [
    "```python\n",
    "np.arange(1000000).sum() # little help from C. faster than python\n",
    "array + 3\n",
    "array * 3 # multiplying by scalar\n",
    "array_1+array_2 # adding two arrays together\n",
    "array_1*array_2 # multiplying two arrays together\n",
    "array > 2 # not just for math making boolean list\n",
    "```"
   ]
  },
  {
   "cell_type": "markdown",
   "id": "60177431-409c-4475-a6db-97a501f89af7",
   "metadata": {},
   "source": [
    "```python\n",
    "array = np.array([\"NumPy\", \"is\", \"awesome\"])\n",
    "len(array) > 2\n",
    "```\n",
    "```\n",
    "True\n",
    "```"
   ]
  },
  {
   "cell_type": "markdown",
   "id": "c01297f1-71cb-4b08-9ae6-6874f63b426f",
   "metadata": {},
   "source": [
    "```python\n",
    "vectorized_len = np.vectorize(len) # vectorizing functions\n",
    "\n",
    "vectorized_len(array) > 2\n",
    "```\n",
    "```\n",
    "array([ True, False, True])\n",
    "```"
   ]
  },
  {
   "cell_type": "markdown",
   "id": "0fb7906b-8d6d-4f04-988b-5ea007797d91",
   "metadata": {},
   "source": [
    "### Broadcasting"
   ]
  },
  {
   "cell_type": "markdown",
   "id": "c103fdeb-c290-452a-8398-24026c7d38ac",
   "metadata": {},
   "source": [
    "**Compatibility rules**\n",
    "* NumPy compares sets of array dimensions from right to left.\n",
    "* Two dimensions are compatible when...\n",
    "    * One of them has a length of one or\n",
    "    * They are of equal lengths\n",
    "* All dimension sets must be compatible"
   ]
  },
  {
   "cell_type": "markdown",
   "id": "7025a7ba-48f9-4a38-a5c8-4c8a5f1dd0d4",
   "metadata": {},
   "source": [
    "|Broadcastable shapes:|Shapes which are not broadcastable:|\n",
    "|---------------------|-----------------------------------|\n",
    "|```(10, 5)``` and ```(10, 1)```|```(10, 5)``` and ```(5, 10)```|\n",
    "|```(10, 5)``` and ```(5, )```|```(10, 5)``` and ```(10, )```"
   ]
  },
  {
   "cell_type": "markdown",
   "id": "f09a2918-e699-47e4-b447-a09e82787372",
   "metadata": {},
   "source": [
    "```python\n",
    "array = np.arange(10).reshape((2, 5))\n",
    "array + np.array([0, 1, 2, 3, 4])\n",
    "```\n",
    "```\n",
    "array([[ 0, 2, 4, 6, 8],\n",
    "       [ 5, 7, 9, 11, 13]])\n",
    "```"
   ]
  },
  {
   "cell_type": "markdown",
   "id": "8047e257-ead7-42cd-822e-e4f3a8ee8815",
   "metadata": {},
   "source": [
    "```python\n",
    "array = np.arange(10).reshape((2, 5))\n",
    "array + np.array([0, 1])\n",
    "```\n",
    "```\n",
    "ValueError: operands could not be broadcast together with shapes (2,5) (2,)\n",
    "```"
   ]
  },
  {
   "cell_type": "markdown",
   "id": "f286c113-9578-4d66-a215-e1de57238ca0",
   "metadata": {},
   "source": [
    "### Saving and loading arrays"
   ]
  },
  {
   "cell_type": "markdown",
   "id": "9e2b8ac4-9778-4828-bd3f-907e28931764",
   "metadata": {},
   "source": [
    "```python\n",
    "rgb = np.array([[[255, 0, 0], [255, 0, 0], [255, 0, 0]],\n",
    "                [[0, 255, 0], [0, 255, 0], [0, 255, 0]],\n",
    "                [[0, 0, 255], [0, 0, 255], [0, 0, 255]]])\n",
    "plt.imshow(rgb)\n",
    "plt.show()\n",
    "```"
   ]
  },
  {
   "cell_type": "markdown",
   "id": "355c46ef-935a-4a6c-bb10-9b02ec7d8c88",
   "metadata": {},
   "source": [
    "```python\n",
    "with open(\"logo.npy\", \"rb\") as f: # loading .npy files\n",
    "    logo_rgb_array = np.load(f)\n",
    "plt.imshow(logo_rgb_array)\n",
    "plt.show()\n",
    "```\n",
    "Save arrays in many formats:\n",
    "* .csv\n",
    "* .txt\n",
    "* .pkl\n",
    "* .npy"
   ]
  },
  {
   "cell_type": "markdown",
   "id": "2e17e822-aaba-4af0-be3d-8a6593a53869",
   "metadata": {},
   "source": [
    "```python\n",
    "red_array = logo_rgb_array[:, :, 0] # examining rgb data\n",
    "blue_array = logo_rgb_array[:, :, 1]\n",
    "green_array = logo_rgb_array[:, :, 2]\n",
    "```"
   ]
  },
  {
   "cell_type": "markdown",
   "id": "c67cb58f-b27c-4d2d-ab9e-e5e9ac90d293",
   "metadata": {},
   "source": [
    "```python\n",
    "dark_logo_array = np.where(logo_rgb_array == 255, 50, logo_rgb_array) # updating rgb data\n",
    "plt.imshow(dark_logo_array)\n",
    "plt.show()\n",
    "```"
   ]
  },
  {
   "cell_type": "markdown",
   "id": "37d37132-57c9-4714-b8f8-298fa273f568",
   "metadata": {},
   "source": [
    "```python\n",
    "with open(\"dark_logo.npy\", \"wb\") as f:\n",
    "    np.save(f, dark_logo_array) # saving array as .npy file\n",
    "```"
   ]
  },
  {
   "cell_type": "markdown",
   "id": "b2c34c3a-1abc-491c-b007-162b1c377cd7",
   "metadata": {},
   "source": [
    "### Array acrobatics"
   ]
  },
  {
   "cell_type": "markdown",
   "id": "97ff1626-8c98-48ec-96a1-86c8f794f1cd",
   "metadata": {},
   "source": [
    "```python\n",
    "flipped_logo = np.flip(logo_rgb_array) # it flipped colors also\n",
    "plt.imshow(flipped_logo)\n",
    "plt.show()\n",
    "```"
   ]
  },
  {
   "cell_type": "markdown",
   "id": "c82891e5-a64a-4db9-a0b2-ac35d47db79e",
   "metadata": {},
   "source": [
    "```python\n",
    "flipped_rows_logo = np.flip(logo_rgb_array, axis=0) # fliping along an axis (horizontal mirroring)\n",
    "plt.imshow(flipped_rows_logo)\n",
    "plt.show()\n",
    "```"
   ]
  },
  {
   "cell_type": "markdown",
   "id": "d75e860d-b438-4c22-a91c-668b6f1bb4ba",
   "metadata": {},
   "source": [
    "```python\n",
    "flipped_colors_logo = np.flip(logo_rgb_array, axis=2) # flipping only colors\n",
    "plt.imshow(flipped_colors_logo)\n",
    "plt.show()\n",
    "```"
   ]
  },
  {
   "cell_type": "markdown",
   "id": "851f8d56-d527-4294-8a4f-3f50987fb355",
   "metadata": {},
   "source": [
    "```python\n",
    "flipped_colors_logo = np.flip(logo_rgb_array, axis=(0,1)) # flipping without colors (horizontal and vertical mirroring)\n",
    "plt.imshow(flipped_colors_logo)\n",
    "plt.show()\n",
    "```"
   ]
  },
  {
   "cell_type": "markdown",
   "id": "e45a25ce-cbb6-4bcf-817b-3d5a175dd561",
   "metadata": {},
   "source": [
    "```python\n",
    "array = np.array([[1.1, 1.2, 1.3],\n",
    "                  [2.1, 2.2, 2.3],\n",
    "                  [3.1, 3.2, 3.3],\n",
    "                  [4.1, 4.2, 4.3]])\n",
    "np.flip(array) # flipping an array(without axis, all axis flipped)\n",
    "```\n",
    "```\n",
    "array([[4.3, 4.2, 4.1],\n",
    "       [3.3, 3.2, 3.1],\n",
    "       [2.3, 2.2, 2.1],\n",
    "       [1.3, 1.2, 1.1]])\n",
    "```\n"
   ]
  },
  {
   "cell_type": "markdown",
   "id": "8f5306a0-0ee7-4911-a395-fc4572805757",
   "metadata": {},
   "source": [
    "```python\n",
    "array = np.array([[1.1, 1.2, 1.3],\n",
    "                  [2.1, 2.2, 2.3],\n",
    "                  [3.1, 3.2, 3.3],\n",
    "                  [4.1, 4.2, 4.3]])\n",
    "np.transpose(array) # transposing an array\n",
    "```\n",
    "```\n",
    "array([[1.1, 2.1, 3.1, 4.1],\n",
    "       [1.2, 2.2, 3.2, 4.2],\n",
    "       [1.3, 2.3, 3.3, 4.3]])\n",
    "```\n"
   ]
  },
  {
   "cell_type": "markdown",
   "id": "b2264e68-7f34-4077-a030-066e084ba5f0",
   "metadata": {},
   "source": [
    "```python\n",
    "transposed_logo = np.transpose(logo_rgb_array, axes=(1, 0, 2)) # setting transposed axis order(without changing colors) (mirroring crossed axes )\n",
    "plt.imshow(transposed_logo)\n",
    "plt.show()\n",
    "```"
   ]
  },
  {
   "cell_type": "markdown",
   "id": "baf83815-2a0f-423b-a77c-f9a7fe7762cb",
   "metadata": {},
   "source": [
    "### Stacking and splitting"
   ]
  },
  {
   "cell_type": "markdown",
   "id": "c43304d9-5ca2-47b5-8462-a8c1e8438723",
   "metadata": {},
   "source": [
    "```python\n",
    "rgb = np.array([[[255, 0, 0], [255, 255, 0], [255, 255, 255]],\n",
    "                [[255, 0, 255], [0, 255, 0], [0, 255, 255]],\n",
    "                [[0, 0, 0], [0, 255, 255], [0, 0, 255]]])\n",
    "red_array = rgb[:, :, 0]\n",
    "blue_array = rgb[:, :, 1]\n",
    "green_array = rgb[:, :, 2]\n",
    "red_array\n",
    "```\n",
    "```\n",
    "array([[255, 255, 255],\n",
    "       [255, 0, 0],\n",
    "       [255, 0, 0]])\n",
    "```\n",
    "```python\n",
    "red_array.shape\n",
    "```\n",
    "```\n",
    "(3, 3)\n",
    "```"
   ]
  },
  {
   "cell_type": "markdown",
   "id": "1a9e5381-4f3d-4e7e-902a-b2ae3f918cb8",
   "metadata": {},
   "source": [
    "```python\n",
    "red_array, green_array, blue_array = np.split(rgb, 3, axis=2) # splitting array\n",
    "red_array\n",
    "```\n",
    "```\n",
    "array([[[255], [255], [255]],\n",
    "       [[255], [ 0], [ 0]],\n",
    "       [[255], [ 0], [ 0]]])\n",
    "```\n",
    "```python\n",
    "red_array.shape\n",
    "```\n",
    "```\n",
    "(3, 3, 1)\n",
    "```"
   ]
  },
  {
   "cell_type": "markdown",
   "id": "dc2b36d6-b55d-4f61-b299-51b3f95d0582",
   "metadata": {},
   "source": [
    "```python\n",
    "red_array_2D = red_array.reshape((3, 3)) # trailing dimensions\n",
    "red_array_2D\n",
    "```\n",
    "```\n",
    "array([[255, 255, 255],\n",
    "       [255, 0, 0],\n",
    "       [255, 0, 0]])\n",
    "```\n",
    "```python\n",
    "red_array_2D.shape\n",
    "```\n",
    "```\n",
    "(3, 3)\n",
    "```"
   ]
  },
  {
   "cell_type": "markdown",
   "id": "b8c01bb2-fd7c-4e04-aafc-c6b53100b704",
   "metadata": {},
   "source": [
    "```python\n",
    "red_array, green_array, blue_array = np.split(rgb, 5, axis=2)\n",
    "```\n",
    "```\n",
    "ValueError: array split does not result in an equal division\n",
    "```"
   ]
  },
  {
   "cell_type": "markdown",
   "id": "9cb6b351-57cb-422a-b7a3-a38ed6ff3bb1",
   "metadata": {},
   "source": [
    "```python\n",
    "red_array, green_array, blue_array = np.split(logo_rgb_array, 3, axis=2)\n",
    "plt.imshow(red_array) # plotting 2D image data\n",
    "plt.show()\n",
    "```"
   ]
  },
  {
   "cell_type": "markdown",
   "id": "ab9d4d90-839b-4835-81c1-5d5c00c28870",
   "metadata": {},
   "source": [
    "```python\n",
    "red_array = np.zeros((1001, 1001)).astype(np.int32) # changing red array\n",
    "green_array = green_array.reshape((1001, 1001))\n",
    "blue_array = blue_array.reshape((1001, 1001))\n",
    "```"
   ]
  },
  {
   "cell_type": "markdown",
   "id": "30197c93-6823-436f-a719-fb9dcc5cb68d",
   "metadata": {},
   "source": [
    "```python\n",
    "stacked_rgb = np.stack([red_array, green_array, blue_array], axis=2) # stacking 2D arrays\n",
    "plt.imshow(stacked_rgb)\n",
    "plt.show()\n",
    "```"
   ]
  }
 ],
 "metadata": {
  "kernelspec": {
   "display_name": "Python 3 (ipykernel)",
   "language": "python",
   "name": "python3"
  },
  "language_info": {
   "codemirror_mode": {
    "name": "ipython",
    "version": 3
   },
   "file_extension": ".py",
   "mimetype": "text/x-python",
   "name": "python",
   "nbconvert_exporter": "python",
   "pygments_lexer": "ipython3",
   "version": "3.8.13"
  },
  "toc": {
   "base_numbering": 1,
   "nav_menu": {},
   "number_sections": true,
   "sideBar": true,
   "skip_h1_title": false,
   "title_cell": "Table of Contents",
   "title_sidebar": "Contents",
   "toc_cell": false,
   "toc_position": {},
   "toc_section_display": true,
   "toc_window_display": false
  },
  "varInspector": {
   "cols": {
    "lenName": 16,
    "lenType": 16,
    "lenVar": 40
   },
   "kernels_config": {
    "python": {
     "delete_cmd_postfix": "",
     "delete_cmd_prefix": "del ",
     "library": "var_list.py",
     "varRefreshCmd": "print(var_dic_list())"
    },
    "r": {
     "delete_cmd_postfix": ") ",
     "delete_cmd_prefix": "rm(",
     "library": "var_list.r",
     "varRefreshCmd": "cat(var_dic_list()) "
    }
   },
   "types_to_exclude": [
    "module",
    "function",
    "builtin_function_or_method",
    "instance",
    "_Feature"
   ],
   "window_display": false
  }
 },
 "nbformat": 4,
 "nbformat_minor": 5
}
